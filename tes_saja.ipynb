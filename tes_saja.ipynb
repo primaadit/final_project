{
 "cells": [
  {
   "cell_type": "code",
   "execution_count": 1,
   "id": "b846f887-1e69-43af-aa8a-64b42f04f32c",
   "metadata": {
    "tags": []
   },
   "outputs": [
    {
     "data": {
      "text/plain": [
       "'C:\\\\Users\\\\aditr_4enclb0'"
      ]
     },
     "execution_count": 1,
     "metadata": {},
     "output_type": "execute_result"
    }
   ],
   "source": [
    "import os\n",
    "os.getcwd()"
   ]
  },
  {
   "cell_type": "code",
   "execution_count": 2,
   "id": "392158b7-562f-4109-9186-aab97ec33ac5",
   "metadata": {
    "tags": []
   },
   "outputs": [],
   "source": [
    "os.chdir('D:\\\\Bootcamp\\\\Final Project\\\\GitHub')"
   ]
  },
  {
   "cell_type": "code",
   "execution_count": 3,
   "id": "1717cb58-6af6-4d1e-ba58-aeaaf0c94757",
   "metadata": {
    "tags": []
   },
   "outputs": [
    {
     "data": {
      "text/plain": [
       "'D:\\\\Bootcamp\\\\Final Project\\\\GitHub'"
      ]
     },
     "execution_count": 3,
     "metadata": {},
     "output_type": "execute_result"
    }
   ],
   "source": [
    "import os\n",
    "os.getcwd()"
   ]
  },
  {
   "cell_type": "code",
   "execution_count": null,
   "id": "eb470681-99e1-4d33-92c7-60b2bcadbeff",
   "metadata": {},
   "outputs": [],
   "source": []
  }
 ],
 "metadata": {
  "kernelspec": {
   "display_name": "Python 3 (ipykernel)",
   "language": "python",
   "name": "python3"
  },
  "language_info": {
   "codemirror_mode": {
    "name": "ipython",
    "version": 3
   },
   "file_extension": ".py",
   "mimetype": "text/x-python",
   "name": "python",
   "nbconvert_exporter": "python",
   "pygments_lexer": "ipython3",
   "version": "3.11.5"
  }
 },
 "nbformat": 4,
 "nbformat_minor": 5
}
