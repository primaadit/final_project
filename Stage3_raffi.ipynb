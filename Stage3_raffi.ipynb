{
 "cells": [
  {
   "cell_type": "code",
   "execution_count": 1,
   "id": "aa3280df-c41c-46a8-a4b5-133760db9e64",
   "metadata": {},
   "outputs": [],
   "source": [
    "import numpy as np\n",
    "import pandas as pd\n",
    "import seaborn as sns\n",
    "import matplotlib.pyplot as plt\n",
    "from scipy import stats\n",
    "from sklearn.preprocessing import MinMaxScaler, StandardScaler\n",
    "%matplotlib inline"
   ]
  },
  {
   "cell_type": "code",
   "execution_count": 2,
   "id": "c3aea1e3-346d-4f2f-ba94-fc7207d4b1be",
   "metadata": {},
   "outputs": [],
   "source": [
    "df = pd.read_csv('dataset.csv')"
   ]
  },
  {
   "cell_type": "code",
   "execution_count": 3,
   "id": "eb9485be-3fe8-49a8-9425-c7898182b099",
   "metadata": {},
   "outputs": [],
   "source": [
    "kategori = ['OperatingSystems', 'Browser', 'Region', 'TrafficType', 'VisitorType', 'Weekend', 'Revenue']\n",
    "numerikal = ['Administrative', 'Administrative_Duration', 'Informational', 'Informational_Duration',  \n",
    "             'ProductRelated', 'ProductRelated_Duration', 'BounceRates', 'ExitRates', 'PageValues','SpecialDay']\n",
    "date = ['Month']"
   ]
  },
  {
   "cell_type": "markdown",
   "id": "ada60e17",
   "metadata": {},
   "source": [
    "## Missing Value"
   ]
  },
  {
   "cell_type": "code",
   "execution_count": 4,
   "id": "97ec1f4f-a44e-412d-8b4b-8e9b04ef6101",
   "metadata": {},
   "outputs": [
    {
     "data": {
      "text/plain": [
       "Administrative             111\n",
       "Administrative_Duration    633\n",
       "Informational                0\n",
       "Informational_Duration       0\n",
       "ProductRelated               0\n",
       "ProductRelated_Duration    639\n",
       "BounceRates                 74\n",
       "ExitRates                    0\n",
       "PageValues                   0\n",
       "SpecialDay                   0\n",
       "Month                        0\n",
       "OperatingSystems           524\n",
       "Browser                      0\n",
       "Region                       0\n",
       "TrafficType                  0\n",
       "VisitorType                  0\n",
       "Weekend                      0\n",
       "Revenue                      0\n",
       "dtype: int64"
      ]
     },
     "execution_count": 4,
     "metadata": {},
     "output_type": "execute_result"
    }
   ],
   "source": [
    "df.isna().sum()"
   ]
  },
  {
   "cell_type": "markdown",
   "id": "645c84ab",
   "metadata": {},
   "source": [
    "Dikarenakan jumlah data numerik yang null berpotensi cukup banyak, bisa kita fill menggunakan median. Dipilih median karena sebaran data yang skew ke kanan, sehingga nilai mean lebih tinggi dari median."
   ]
  },
  {
   "cell_type": "code",
   "execution_count": 5,
   "id": "b4f50430-5686-4195-b888-b6c46569ab13",
   "metadata": {},
   "outputs": [],
   "source": [
    "df['Administrative'] = df['Administrative'].fillna(value=df['Administrative'].median())\n",
    "df['Administrative_Duration'] = df['Administrative_Duration'].fillna(value=df['Administrative_Duration'].median())\n",
    "df['ProductRelated_Duration'] = df['ProductRelated_Duration'].fillna(value=df['ProductRelated_Duration'].median())\n",
    "df['BounceRates'] = df['BounceRates'].fillna(value=df['BounceRates'].median())"
   ]
  },
  {
   "cell_type": "markdown",
   "id": "3dbbbfb6",
   "metadata": {},
   "source": [
    "Data kategorikal yang null tidak terlalu banyak sehingga bisa kita drop"
   ]
  },
  {
   "cell_type": "code",
   "execution_count": 6,
   "id": "8487de91-327b-446b-8614-08cc00cfb3ed",
   "metadata": {},
   "outputs": [],
   "source": [
    "df = df.dropna(subset=['OperatingSystems'])"
   ]
  },
  {
   "cell_type": "code",
   "execution_count": 7,
   "id": "7457873b-c56c-43eb-be60-ff83c832878a",
   "metadata": {},
   "outputs": [
    {
     "data": {
      "text/plain": [
       "Administrative             0\n",
       "Administrative_Duration    0\n",
       "Informational              0\n",
       "Informational_Duration     0\n",
       "ProductRelated             0\n",
       "ProductRelated_Duration    0\n",
       "BounceRates                0\n",
       "ExitRates                  0\n",
       "PageValues                 0\n",
       "SpecialDay                 0\n",
       "Month                      0\n",
       "OperatingSystems           0\n",
       "Browser                    0\n",
       "Region                     0\n",
       "TrafficType                0\n",
       "VisitorType                0\n",
       "Weekend                    0\n",
       "Revenue                    0\n",
       "dtype: int64"
      ]
     },
     "execution_count": 7,
     "metadata": {},
     "output_type": "execute_result"
    }
   ],
   "source": [
    "df.isna().sum()"
   ]
  },
  {
   "cell_type": "markdown",
   "id": "d96f9052",
   "metadata": {},
   "source": [
    "## Duplicated Data"
   ]
  },
  {
   "cell_type": "code",
   "execution_count": 8,
   "id": "53fcba52-0264-41c8-9c6b-53ec7d8241f5",
   "metadata": {},
   "outputs": [
    {
     "data": {
      "text/plain": [
       "694"
      ]
     },
     "execution_count": 8,
     "metadata": {},
     "output_type": "execute_result"
    }
   ],
   "source": [
    "df.duplicated().sum()"
   ]
  },
  {
   "cell_type": "markdown",
   "id": "5acb0652",
   "metadata": {},
   "source": [
    "Hapus duplikat tapi simpan nilai yang pertama muncul."
   ]
  },
  {
   "cell_type": "code",
   "execution_count": 9,
   "id": "d8fecf4d-b356-4a8f-aca1-99c7d5993569",
   "metadata": {},
   "outputs": [],
   "source": [
    "df = df.drop_duplicates(keep='first')"
   ]
  },
  {
   "cell_type": "code",
   "execution_count": 10,
   "id": "bbdefbd9-c423-4dd9-9590-cfb739922352",
   "metadata": {},
   "outputs": [
    {
     "data": {
      "text/plain": [
       "0"
      ]
     },
     "execution_count": 10,
     "metadata": {},
     "output_type": "execute_result"
    }
   ],
   "source": [
    "df.duplicated().sum()"
   ]
  },
  {
   "cell_type": "markdown",
   "id": "c552a7e1",
   "metadata": {},
   "source": [
    "## Handle Categorical"
   ]
  },
  {
   "cell_type": "markdown",
   "id": "72fa9841",
   "metadata": {},
   "source": [
    "### Grouping"
   ]
  },
  {
   "cell_type": "markdown",
   "id": "70d3d911",
   "metadata": {},
   "source": [
    "Penamaan data kategorikal berdasarkan EDA di stage 1"
   ]
  },
  {
   "cell_type": "code",
   "execution_count": 11,
   "id": "75f943ae-15bf-4896-8004-9ed5ea82ebd9",
   "metadata": {},
   "outputs": [],
   "source": [
    "df.Region = df.Region.astype('string').replace(['1', '2', '3', '4', '5', '6', '7', '8', '9'],\n",
    "                      ['Jakarta', 'Bandung', 'Surabaya', 'Medan', 'Batam', 'Makassar', 'Tangerang', 'Yogyakarta', 'Semarang'])\n",
    "\n",
    "df.Browser = df.Browser.astype('string').replace(['1', '2', '3', '4', '5', '6', '7', '8', '9', '10', '11', '12', '13'],\n",
    "                                ['Safari', 'Google Chrome', 'Internet Explorer', 'Mozilla Firefox', 'Microsoft Edge', 'Samsung Internet', 'Maxthon Browser', 'Brave', 'Vivaldi', 'UC Browser', 'DuckDuckGo', 'Opera', 'Netscape Navigator'])\n",
    "\n",
    "df.OperatingSystems = df.OperatingSystems.astype('string').replace(['1.0', '2.0', '3.0', '4.0', '5.0', '6.0', '7.0', '8.0'],\n",
    "                                                  ['iOS', 'Windows', 'Android', 'MAC OS', 'Blackberry', 'Chrome Os', 'Unix', 'Linux'])\n",
    "\n",
    "df.TrafficType = df.TrafficType.astype('string').replace(['1', '2', '3', '4', '5', '6', '8', '10', '13'],\n",
    "                                        ['Organic Search', 'Paid Search', 'Direct Traffic', 'Social Media', 'Facebook Ads', 'Referral Traffic', 'Email Marketing ', 'Display Advertising', 'Affiliate Marketing'])"
   ]
  },
  {
   "cell_type": "markdown",
   "id": "b70b37f5",
   "metadata": {},
   "source": [
    "beberapa data memiliki count yang sangat kecil seperti :  \n",
    "  \n",
    "- VisitorType : Other  \n",
    "- Operating system : 4 (Mac OS), 5 (Blackberry OS), 6 (Chrome OS), 7 (Unix), 8  \n",
    "- browser : 7 (Maxthon), 9 (Vivaldi), 11 (DuckDuckGo), 12 (Opera), 13 (Netscape)  \n",
    "- traffic type : 9,7,12,14,15,16,17,18,19  \n",
    "data ini memiliki potensi untuk didrop atau digabung menjadi \"other\"  "
   ]
  },
  {
   "cell_type": "code",
   "execution_count": 12,
   "id": "8b728d92-8628-48ae-bf0b-9c97f2851367",
   "metadata": {},
   "outputs": [],
   "source": [
    "df = df.drop(df.loc[df['VisitorType'] =='Other'].index) "
   ]
  },
  {
   "cell_type": "code",
   "execution_count": 13,
   "id": "3887ddb1-af94-4853-918e-6a938171e8c9",
   "metadata": {},
   "outputs": [],
   "source": [
    "os_replace = ['MAC OS', 'Blackberry', 'Chrome Os', 'Unix', 'Linux']\n",
    "browser_replace =  ['Maxthon Browser', 'Vivaldi', 'DuckDuckGo', 'Opera', 'Netscape Navigator']\n",
    "traffic_replace = ['9','7','12','14','15','16','17','18','19']"
   ]
  },
  {
   "cell_type": "code",
   "execution_count": 14,
   "id": "febda95f-c9bd-4393-9514-2c0e6ca5d6bd",
   "metadata": {},
   "outputs": [],
   "source": [
    "df['OperatingSystems'] = df['OperatingSystems'].astype('string').replace(to_replace=os_replace,value='other')\n",
    "df['Browser'] = df['Browser'].astype('string').replace(to_replace=browser_replace,value='other')\n",
    "df['TrafficType'] = df['TrafficType'].astype('string').replace(to_replace=traffic_replace,value='other')"
   ]
  },
  {
   "cell_type": "code",
   "execution_count": 15,
   "id": "b2270594-7823-4b3e-a9d3-e1ec46a5da42",
   "metadata": {},
   "outputs": [
    {
     "data": {
      "image/png": "[encoded data removed]",
      "text/plain": [
       "<Figure size 1200x1000 with 6 Axes>"
      ]
     },
     "metadata": {},
     "output_type": "display_data"
    }
   ],
   "source": [
    "cat2 = ['VisitorType','OperatingSystems', 'Browser', 'Region', 'TrafficType','Month']\n",
    "palette = sns.color_palette(\"hsv\", 10)\n",
    "plt.figure(figsize=(12, 10))\n",
    "for i in range(0,len(cat2)):\n",
    "    plt.subplot(3,2,i+1)\n",
    "    sns.countplot(y=df[cat2[i]],order = df[cat2[i]].value_counts().index,palette=palette)"
   ]
  },
  {
   "cell_type": "markdown",
   "id": "96a8e10c",
   "metadata": {},
   "source": [
    "### Feature encoding"
   ]
  },
  {
   "cell_type": "markdown",
   "id": "cc32302a",
   "metadata": {},
   "source": [
    "Semua fitur kategorikal tidak memiki sifat berurutan atau memiliki derajat, sehingga bisa dilakukan one hot encoding."
   ]
  },
  {
   "cell_type": "code",
   "execution_count": 16,
   "id": "971a3dd1-5761-4699-8aa4-edfe8709f550",
   "metadata": {},
   "outputs": [],
   "source": [
    "from sklearn.preprocessing import OneHotEncoder\n",
    "\n",
    "columns_to_encode = ['OperatingSystems', 'Browser', 'Region', 'TrafficType', 'VisitorType', 'Weekend','Month']\n",
    "df = pd.get_dummies(df, columns=columns_to_encode)"
   ]
  },
  {
   "cell_type": "markdown",
   "id": "9f1fccb9",
   "metadata": {},
   "source": [
    "## Handling Numerical"
   ]
  },
  {
   "cell_type": "markdown",
   "id": "bd00b7cd",
   "metadata": {},
   "source": [
    "### Outlier"
   ]
  },
  {
   "cell_type": "code",
   "execution_count": 17,
   "id": "e47c9a51-e710-4d15-91bd-db18486d23d9",
   "metadata": {},
   "outputs": [],
   "source": [
    "outlier = ['Administrative','Administrative_Duration','Informational','Informational_Duration',\n",
    "           'ProductRelated','ProductRelated_Duration','BounceRates','ExitRates',\n",
    "           'PageValues']"
   ]
  },
  {
   "cell_type": "markdown",
   "id": "4257a2fe",
   "metadata": {},
   "source": [
    "Dikarenakan sebaran data yang skew ke kanan, diterapkan log transformation untuk menormalkan sebaran data"
   ]
  },
  {
   "cell_type": "code",
   "execution_count": 18,
   "id": "d9dffa5e-b3c6-4452-9c76-2ed9dd650e58",
   "metadata": {},
   "outputs": [],
   "source": [
    "for num in df[outlier]:\n",
    "    min_value = df[df[num] > 0][num].min() / 2\n",
    "    df[num] = np.log(df[num] + min_value)"
   ]
  },
  {
   "cell_type": "code",
   "execution_count": 19,
   "id": "33341f7b-77ad-4f81-af72-c9da09d947a8",
   "metadata": {},
   "outputs": [
    {
     "name": "stdout",
     "output_type": "stream",
     "text": [
      "Jumlah baris sebelum memfilter outlier: 11649\n",
      "Jumlah baris setelah memfilter outlier: 10719\n"
     ]
    }
   ],
   "source": [
    "print(f'Jumlah baris sebelum memfilter outlier: {len(df)}')\n",
    "\n",
    "filtered_entries = np.array([True] * len(df))\n",
    "\n",
    "for col in outlier:\n",
    "    zscore = abs(stats.zscore(df[col])) \n",
    "    filtered_entries = (zscore < 3) & filtered_entries\n",
    "    \n",
    "df_zscore = df[filtered_entries] \n",
    "\n",
    "print(f'Jumlah baris setelah memfilter outlier: {len(df_zscore)}')"
   ]
  },
  {
   "cell_type": "code",
   "execution_count": 20,
   "id": "3e6ee6bb-03eb-43d0-b23f-bd8abbc7be47",
   "metadata": {},
   "outputs": [
    {
     "data": {
      "image/png": "[encoded data removed]",
      "text/plain": [
       "<Figure size 800x600 with 10 Axes>"
      ]
     },
     "metadata": {},
     "output_type": "display_data"
    }
   ],
   "source": [
    "plt.figure(figsize=(8, 6))\n",
    "for i in range(0,len(numerikal)):\n",
    "    plt.subplot(2,5,i+1)\n",
    "    sns.boxplot(y=df_zscore[numerikal[i]],orient='v')\n",
    "    plt.tight_layout()"
   ]
  },
  {
   "cell_type": "code",
   "execution_count": 21,
   "id": "ff80db3c",
   "metadata": {},
   "outputs": [],
   "source": [
    "df = df_zscore"
   ]
  },
  {
   "cell_type": "code",
   "execution_count": 22,
   "id": "68ec02c0",
   "metadata": {},
   "outputs": [],
   "source": [
    "# df['Avg_Duration'] = df['ProductRelated_Duration']/df['ProductRelated']\n",
    "# df['Inf_Duration'] = df[\"Informational_Duration\"]/df['Informational']\n",
    "# df['Admin_Duration']=df['Administrative_Duration']/df['Administrative']"
   ]
  },
  {
   "cell_type": "code",
   "execution_count": 23,
   "id": "680808c3",
   "metadata": {},
   "outputs": [],
   "source": [
    "df.drop(columns=['Administrative_Duration'], inplace=True)\n",
    "df.drop(columns=['Informational_Duration'], inplace=True)\n",
    "df.drop(columns=['ProductRelated_Duration'], inplace=True)\n",
    "df.drop(columns=['SpecialDay'], inplace =True)\n",
    "df.drop(columns=['PageValues'], inplace=True)"
   ]
  },
  {
   "cell_type": "code",
   "execution_count": 24,
   "id": "bc934430",
   "metadata": {},
   "outputs": [],
   "source": [
    "df['not_revenue']  = np.where(df['Revenue'] == True,False,True)"
   ]
  },
  {
   "cell_type": "code",
   "execution_count": 25,
   "id": "86f4e42a",
   "metadata": {},
   "outputs": [
    {
     "data": {
      "text/html": [
       "<div>\n",
       "<style scoped>\n",
       "    .dataframe tbody tr th:only-of-type {\n",
       "        vertical-align: middle;\n",
       "    }\n",
       "\n",
       "    .dataframe tbody tr th {\n",
       "        vertical-align: top;\n",
       "    }\n",
       "\n",
       "    .dataframe thead th {\n",
       "        text-align: right;\n",
       "    }\n",
       "</style>\n",
       "<table border=\"1\" class=\"dataframe\">\n",
       "  <thead>\n",
       "    <tr style=\"text-align: right;\">\n",
       "      <th></th>\n",
       "      <th>Administrative</th>\n",
       "      <th>Informational</th>\n",
       "      <th>ProductRelated</th>\n",
       "      <th>BounceRates</th>\n",
       "      <th>ExitRates</th>\n",
       "      <th>Revenue</th>\n",
       "      <th>OperatingSystems_Android</th>\n",
       "      <th>OperatingSystems_Windows</th>\n",
       "      <th>OperatingSystems_iOS</th>\n",
       "      <th>OperatingSystems_other</th>\n",
       "      <th>...</th>\n",
       "      <th>Month_Dec</th>\n",
       "      <th>Month_Feb</th>\n",
       "      <th>Month_Jul</th>\n",
       "      <th>Month_June</th>\n",
       "      <th>Month_Mar</th>\n",
       "      <th>Month_May</th>\n",
       "      <th>Month_Nov</th>\n",
       "      <th>Month_Oct</th>\n",
       "      <th>Month_Sep</th>\n",
       "      <th>not_revenue</th>\n",
       "    </tr>\n",
       "  </thead>\n",
       "  <tbody>\n",
       "    <tr>\n",
       "      <th>1</th>\n",
       "      <td>-0.693147</td>\n",
       "      <td>-0.693147</td>\n",
       "      <td>0.916291</td>\n",
       "      <td>-11.201771</td>\n",
       "      <td>-2.301708</td>\n",
       "      <td>False</td>\n",
       "      <td>False</td>\n",
       "      <td>True</td>\n",
       "      <td>False</td>\n",
       "      <td>False</td>\n",
       "      <td>...</td>\n",
       "      <td>False</td>\n",
       "      <td>True</td>\n",
       "      <td>False</td>\n",
       "      <td>False</td>\n",
       "      <td>False</td>\n",
       "      <td>False</td>\n",
       "      <td>False</td>\n",
       "      <td>False</td>\n",
       "      <td>False</td>\n",
       "      <td>True</td>\n",
       "    </tr>\n",
       "    <tr>\n",
       "      <th>3</th>\n",
       "      <td>-0.693147</td>\n",
       "      <td>-0.693147</td>\n",
       "      <td>0.916291</td>\n",
       "      <td>-2.995459</td>\n",
       "      <td>-1.965486</td>\n",
       "      <td>False</td>\n",
       "      <td>True</td>\n",
       "      <td>False</td>\n",
       "      <td>False</td>\n",
       "      <td>False</td>\n",
       "      <td>...</td>\n",
       "      <td>False</td>\n",
       "      <td>True</td>\n",
       "      <td>False</td>\n",
       "      <td>False</td>\n",
       "      <td>False</td>\n",
       "      <td>False</td>\n",
       "      <td>False</td>\n",
       "      <td>False</td>\n",
       "      <td>False</td>\n",
       "      <td>True</td>\n",
       "    </tr>\n",
       "    <tr>\n",
       "      <th>4</th>\n",
       "      <td>-0.693147</td>\n",
       "      <td>-0.693147</td>\n",
       "      <td>2.351375</td>\n",
       "      <td>-3.911341</td>\n",
       "      <td>-2.993978</td>\n",
       "      <td>False</td>\n",
       "      <td>True</td>\n",
       "      <td>False</td>\n",
       "      <td>False</td>\n",
       "      <td>False</td>\n",
       "      <td>...</td>\n",
       "      <td>False</td>\n",
       "      <td>True</td>\n",
       "      <td>False</td>\n",
       "      <td>False</td>\n",
       "      <td>False</td>\n",
       "      <td>False</td>\n",
       "      <td>False</td>\n",
       "      <td>False</td>\n",
       "      <td>False</td>\n",
       "      <td>True</td>\n",
       "    </tr>\n",
       "    <tr>\n",
       "      <th>5</th>\n",
       "      <td>-0.693147</td>\n",
       "      <td>-0.693147</td>\n",
       "      <td>2.970414</td>\n",
       "      <td>-4.147548</td>\n",
       "      <td>-3.703011</td>\n",
       "      <td>False</td>\n",
       "      <td>False</td>\n",
       "      <td>True</td>\n",
       "      <td>False</td>\n",
       "      <td>False</td>\n",
       "      <td>...</td>\n",
       "      <td>False</td>\n",
       "      <td>True</td>\n",
       "      <td>False</td>\n",
       "      <td>False</td>\n",
       "      <td>False</td>\n",
       "      <td>False</td>\n",
       "      <td>False</td>\n",
       "      <td>False</td>\n",
       "      <td>False</td>\n",
       "      <td>True</td>\n",
       "    </tr>\n",
       "    <tr>\n",
       "      <th>8</th>\n",
       "      <td>-0.693147</td>\n",
       "      <td>-0.693147</td>\n",
       "      <td>0.916291</td>\n",
       "      <td>-11.201771</td>\n",
       "      <td>-2.301708</td>\n",
       "      <td>False</td>\n",
       "      <td>False</td>\n",
       "      <td>True</td>\n",
       "      <td>False</td>\n",
       "      <td>False</td>\n",
       "      <td>...</td>\n",
       "      <td>False</td>\n",
       "      <td>True</td>\n",
       "      <td>False</td>\n",
       "      <td>False</td>\n",
       "      <td>False</td>\n",
       "      <td>False</td>\n",
       "      <td>False</td>\n",
       "      <td>False</td>\n",
       "      <td>False</td>\n",
       "      <td>True</td>\n",
       "    </tr>\n",
       "    <tr>\n",
       "      <th>...</th>\n",
       "      <td>...</td>\n",
       "      <td>...</td>\n",
       "      <td>...</td>\n",
       "      <td>...</td>\n",
       "      <td>...</td>\n",
       "      <td>...</td>\n",
       "      <td>...</td>\n",
       "      <td>...</td>\n",
       "      <td>...</td>\n",
       "      <td>...</td>\n",
       "      <td>...</td>\n",
       "      <td>...</td>\n",
       "      <td>...</td>\n",
       "      <td>...</td>\n",
       "      <td>...</td>\n",
       "      <td>...</td>\n",
       "      <td>...</td>\n",
       "      <td>...</td>\n",
       "      <td>...</td>\n",
       "      <td>...</td>\n",
       "      <td>...</td>\n",
       "    </tr>\n",
       "    <tr>\n",
       "      <th>12325</th>\n",
       "      <td>1.252763</td>\n",
       "      <td>-0.693147</td>\n",
       "      <td>3.979682</td>\n",
       "      <td>-4.939733</td>\n",
       "      <td>-3.536385</td>\n",
       "      <td>False</td>\n",
       "      <td>False</td>\n",
       "      <td>False</td>\n",
       "      <td>False</td>\n",
       "      <td>True</td>\n",
       "      <td>...</td>\n",
       "      <td>True</td>\n",
       "      <td>False</td>\n",
       "      <td>False</td>\n",
       "      <td>False</td>\n",
       "      <td>False</td>\n",
       "      <td>False</td>\n",
       "      <td>False</td>\n",
       "      <td>False</td>\n",
       "      <td>False</td>\n",
       "      <td>True</td>\n",
       "    </tr>\n",
       "    <tr>\n",
       "      <th>12326</th>\n",
       "      <td>-0.693147</td>\n",
       "      <td>-0.693147</td>\n",
       "      <td>1.704748</td>\n",
       "      <td>-11.201771</td>\n",
       "      <td>-3.843377</td>\n",
       "      <td>False</td>\n",
       "      <td>True</td>\n",
       "      <td>False</td>\n",
       "      <td>False</td>\n",
       "      <td>False</td>\n",
       "      <td>...</td>\n",
       "      <td>False</td>\n",
       "      <td>False</td>\n",
       "      <td>False</td>\n",
       "      <td>False</td>\n",
       "      <td>False</td>\n",
       "      <td>False</td>\n",
       "      <td>True</td>\n",
       "      <td>False</td>\n",
       "      <td>False</td>\n",
       "      <td>True</td>\n",
       "    </tr>\n",
       "    <tr>\n",
       "      <th>12327</th>\n",
       "      <td>-0.693147</td>\n",
       "      <td>-0.693147</td>\n",
       "      <td>1.871802</td>\n",
       "      <td>-2.484743</td>\n",
       "      <td>-2.444673</td>\n",
       "      <td>False</td>\n",
       "      <td>True</td>\n",
       "      <td>False</td>\n",
       "      <td>False</td>\n",
       "      <td>False</td>\n",
       "      <td>...</td>\n",
       "      <td>False</td>\n",
       "      <td>False</td>\n",
       "      <td>False</td>\n",
       "      <td>False</td>\n",
       "      <td>False</td>\n",
       "      <td>False</td>\n",
       "      <td>True</td>\n",
       "      <td>False</td>\n",
       "      <td>False</td>\n",
       "      <td>True</td>\n",
       "    </tr>\n",
       "    <tr>\n",
       "      <th>12328</th>\n",
       "      <td>1.504077</td>\n",
       "      <td>-0.693147</td>\n",
       "      <td>2.740840</td>\n",
       "      <td>-11.201771</td>\n",
       "      <td>-3.856568</td>\n",
       "      <td>False</td>\n",
       "      <td>False</td>\n",
       "      <td>True</td>\n",
       "      <td>False</td>\n",
       "      <td>False</td>\n",
       "      <td>...</td>\n",
       "      <td>False</td>\n",
       "      <td>False</td>\n",
       "      <td>False</td>\n",
       "      <td>False</td>\n",
       "      <td>False</td>\n",
       "      <td>False</td>\n",
       "      <td>True</td>\n",
       "      <td>False</td>\n",
       "      <td>False</td>\n",
       "      <td>True</td>\n",
       "    </tr>\n",
       "    <tr>\n",
       "      <th>12329</th>\n",
       "      <td>-0.693147</td>\n",
       "      <td>-0.693147</td>\n",
       "      <td>1.252763</td>\n",
       "      <td>-11.201771</td>\n",
       "      <td>-2.706734</td>\n",
       "      <td>False</td>\n",
       "      <td>True</td>\n",
       "      <td>False</td>\n",
       "      <td>False</td>\n",
       "      <td>False</td>\n",
       "      <td>...</td>\n",
       "      <td>False</td>\n",
       "      <td>False</td>\n",
       "      <td>False</td>\n",
       "      <td>False</td>\n",
       "      <td>False</td>\n",
       "      <td>False</td>\n",
       "      <td>True</td>\n",
       "      <td>False</td>\n",
       "      <td>False</td>\n",
       "      <td>True</td>\n",
       "    </tr>\n",
       "  </tbody>\n",
       "</table>\n",
       "<p>10719 rows × 55 columns</p>\n",
       "</div>"
      ],
      "text/plain": [
       "       Administrative  Informational  ProductRelated  BounceRates  ExitRates  \\\n",
       "1           -0.693147      -0.693147        0.916291   -11.201771  -2.301708   \n",
       "3           -0.693147      -0.693147        0.916291    -2.995459  -1.965486   \n",
       "4           -0.693147      -0.693147        2.351375    -3.911341  -2.993978   \n",
       "5           -0.693147      -0.693147        2.970414    -4.147548  -3.703011   \n",
       "8           -0.693147      -0.693147        0.916291   -11.201771  -2.301708   \n",
       "...               ...            ...             ...          ...        ...   \n",
       "12325        1.252763      -0.693147        3.979682    -4.939733  -3.536385   \n",
       "12326       -0.693147      -0.693147        1.704748   -11.201771  -3.843377   \n",
       "12327       -0.693147      -0.693147        1.871802    -2.484743  -2.444673   \n",
       "12328        1.504077      -0.693147        2.740840   -11.201771  -3.856568   \n",
       "12329       -0.693147      -0.693147        1.252763   -11.201771  -2.706734   \n",
       "\n",
       "       Revenue  OperatingSystems_Android  OperatingSystems_Windows  \\\n",
       "1        False                     False                      True   \n",
       "3        False                      True                     False   \n",
       "4        False                      True                     False   \n",
       "5        False                     False                      True   \n",
       "8        False                     False                      True   \n",
       "...        ...                       ...                       ...   \n",
       "12325    False                     False                     False   \n",
       "12326    False                      True                     False   \n",
       "12327    False                      True                     False   \n",
       "12328    False                     False                      True   \n",
       "12329    False                      True                     False   \n",
       "\n",
       "       OperatingSystems_iOS  OperatingSystems_other  ...  Month_Dec  \\\n",
       "1                     False                   False  ...      False   \n",
       "3                     False                   False  ...      False   \n",
       "4                     False                   False  ...      False   \n",
       "5                     False                   False  ...      False   \n",
       "8                     False                   False  ...      False   \n",
       "...                     ...                     ...  ...        ...   \n",
       "12325                 False                    True  ...       True   \n",
       "12326                 False                   False  ...      False   \n",
       "12327                 False                   False  ...      False   \n",
       "12328                 False                   False  ...      False   \n",
       "12329                 False                   False  ...      False   \n",
       "\n",
       "       Month_Feb  Month_Jul  Month_June  Month_Mar  Month_May  Month_Nov  \\\n",
       "1           True      False       False      False      False      False   \n",
       "3           True      False       False      False      False      False   \n",
       "4           True      False       False      False      False      False   \n",
       "5           True      False       False      False      False      False   \n",
       "8           True      False       False      False      False      False   \n",
       "...          ...        ...         ...        ...        ...        ...   \n",
       "12325      False      False       False      False      False      False   \n",
       "12326      False      False       False      False      False       True   \n",
       "12327      False      False       False      False      False       True   \n",
       "12328      False      False       False      False      False       True   \n",
       "12329      False      False       False      False      False       True   \n",
       "\n",
       "       Month_Oct  Month_Sep  not_revenue  \n",
       "1          False      False         True  \n",
       "3          False      False         True  \n",
       "4          False      False         True  \n",
       "5          False      False         True  \n",
       "8          False      False         True  \n",
       "...          ...        ...          ...  \n",
       "12325      False      False         True  \n",
       "12326      False      False         True  \n",
       "12327      False      False         True  \n",
       "12328      False      False         True  \n",
       "12329      False      False         True  \n",
       "\n",
       "[10719 rows x 55 columns]"
      ]
     },
     "execution_count": 25,
     "metadata": {},
     "output_type": "execute_result"
    }
   ],
   "source": [
    "df"
   ]
  },
  {
   "cell_type": "markdown",
   "id": "5bc0191a-d2e5-4341-9a8e-5dc045c8c4e1",
   "metadata": {},
   "source": [
    "### Splitting Data"
   ]
  },
  {
   "cell_type": "markdown",
   "id": "cab2093f",
   "metadata": {},
   "source": [
    "Sebelum scaling data, dilakukan splitting terlebih dahulu untuk menghindari data leakage"
   ]
  },
  {
   "cell_type": "code",
   "execution_count": 26,
   "id": "598fc468-95d6-429a-a117-4d2885d0f19f",
   "metadata": {},
   "outputs": [
    {
     "name": "stdout",
     "output_type": "stream",
     "text": [
      "X_train shape: (8575, 53)\n",
      "X_test shape: (2144, 53)\n",
      "y_train shape: (8575,)\n",
      "y_test shape: (2144,)\n"
     ]
    }
   ],
   "source": [
    "from sklearn.model_selection import train_test_split\n",
    "\n",
    "\n",
    "X = df.drop(columns=['not_revenue','Revenue'])\n",
    "y= df['not_revenue']\n",
    "X_train, X_test, y_train, y_test = train_test_split(X, y, test_size=0.2, random_state=42)\n",
    "\n",
    "print(\"X_train shape:\", X_train.shape)\n",
    "print(\"X_test shape:\", X_test.shape)\n",
    "print(\"y_train shape:\", y_train.shape)\n",
    "print(\"y_test shape:\", y_test.shape)\n"
   ]
  },
  {
   "cell_type": "markdown",
   "id": "e430bc07-6fc6-485c-add0-6600be540ebd",
   "metadata": {},
   "source": [
    "### Scaling Data"
   ]
  },
  {
   "cell_type": "markdown",
   "id": "264e82be",
   "metadata": {},
   "source": [
    "Dilakukan scaling data menggunakan standardisasi. Dipilih standardisasi karena tidak terlalu sensitif ke outlier"
   ]
  },
  {
   "cell_type": "code",
   "execution_count": 27,
   "id": "9fd17c6a-efe9-448c-89af-3fae79f703c3",
   "metadata": {},
   "outputs": [],
   "source": [
    "from sklearn.preprocessing import StandardScaler\n",
    "\n",
    "scaler = StandardScaler()\n",
    "scaler.fit(X_train) \n",
    "X_train_scaled = scaler.transform(X_train)  \n",
    "X_test_scaled = scaler.transform(X_test) "
   ]
  },
  {
   "cell_type": "code",
   "execution_count": 28,
   "id": "e5754310-0d47-4b06-8cc7-5bb74bd090f9",
   "metadata": {},
   "outputs": [
    {
     "data": {
      "text/plain": [
       "not_revenue\n",
       "True     84.047019\n",
       "False    15.952981\n",
       "Name: proportion, dtype: float64"
      ]
     },
     "execution_count": 28,
     "metadata": {},
     "output_type": "execute_result"
    }
   ],
   "source": [
    "df['not_revenue'].value_counts(normalize=True)* 100"
   ]
  },
  {
   "cell_type": "markdown",
   "id": "1745443c-addc-4c31-9951-ad1dab6701ca",
   "metadata": {},
   "source": [
    "<span style=\"font-size:25px;\">**Handling Class Imbalance**"
   ]
  },
  {
   "cell_type": "markdown",
   "id": "6d28d154",
   "metadata": {},
   "source": [
    "Karena fitur dependant bersifat sangat imbalance, dilakukan handling menggunakan teknik SMOTE"
   ]
  },
  {
   "cell_type": "code",
   "execution_count": 29,
   "id": "cf015503-315a-40f2-be65-fe44eed85c03",
   "metadata": {},
   "outputs": [
    {
     "name": "stdout",
     "output_type": "stream",
     "text": [
      "Original dataset shape: Counter({True: 7230, False: 1345})\n",
      "Resampled dataset shape: Counter({True: 7230, False: 7230})\n"
     ]
    }
   ],
   "source": [
    "from imblearn.over_sampling import SMOTE\n",
    "from collections import Counter\n",
    "\n",
    "\n",
    "smote = SMOTE(random_state=42)\n",
    "X_res, y_res = smote.fit_resample(X_train_scaled, y_train)\n",
    "\n",
    "print('Original dataset shape:', Counter(y_train))\n",
    "print('Resampled dataset shape:', Counter(y_res))\n"
   ]
  },
  {
   "cell_type": "code",
   "execution_count": 30,
   "id": "5e789e7d",
   "metadata": {},
   "outputs": [
    {
     "name": "stdout",
     "output_type": "stream",
     "text": [
      "Original dataset shape: (8575, 53)\n",
      "Resampled dataset shape: (14460, 53)\n"
     ]
    }
   ],
   "source": [
    "print('Original dataset shape:', X_train_scaled.shape)\n",
    "print('Resampled dataset shape:', X_res.shape)"
   ]
  },
  {
   "cell_type": "markdown",
   "id": "a7c6589f-9428-4408-ac8e-39698fa9b328",
   "metadata": {},
   "source": [
    "<span style=\"font-size:25px;\">**Feature Engineering**"
   ]
  },
  {
   "cell_type": "code",
   "execution_count": 31,
   "id": "5279d2b5-e3fd-4175-9e08-3ef908be654d",
   "metadata": {},
   "outputs": [],
   "source": [
    "numerikal2 =  ['Administrative', 'Administrative_Duration', 'Informational', 'Informational_Duration',  \n",
    "             'ProductRelated', 'ProductRelated_Duration', 'BounceRates', 'ExitRates', 'PageValues',\n",
    "               'SpecialDay','Revenue']\n"
   ]
  },
  {
   "cell_type": "code",
   "execution_count": 32,
   "id": "01f52dfb-1ac3-42cf-9bb9-e25e0620d822",
   "metadata": {},
   "outputs": [],
   "source": [
    "# sns.heatmap(df[numerikal2].corr(), annot= True, fmt = ' .2f')"
   ]
  },
  {
   "cell_type": "code",
   "execution_count": 33,
   "id": "4c1f5ff0-54d9-42e8-91b3-e62dc7b8c6b6",
   "metadata": {},
   "outputs": [],
   "source": [
    "kategori_baru = ['OperatingSystems_Android', 'OperatingSystems_Windows',\n",
    "       'OperatingSystems_iOS', 'OperatingSystems_other', 'Browser_Brave',\n",
    "       'Browser_Google Chrome', 'Browser_Internet Explorer',\n",
    "       'Browser_Microsoft Edge', 'Browser_Mozilla Firefox', 'Browser_Safari',\n",
    "       'Browser_Samsung Internet', 'Browser_UC Browser', 'Browser_other',\n",
    "       'Region_Bandung', 'Region_Batam', 'Region_Jakarta', 'Region_Makassar',\n",
    "       'Region_Medan', 'Region_Semarang', 'Region_Surabaya',\n",
    "       'Region_Tangerang', 'Region_Yogyakarta', 'TrafficType_11',\n",
    "       'TrafficType_20', 'TrafficType_Affiliate Marketing',\n",
    "       'TrafficType_Direct Traffic', 'TrafficType_Display Advertising',\n",
    "       'TrafficType_Email Marketing ', 'TrafficType_Facebook Ads',\n",
    "       'TrafficType_Organic Search', 'TrafficType_Paid Search',\n",
    "       'TrafficType_Referral Traffic', 'TrafficType_Social Media',\n",
    "       'TrafficType_other', 'VisitorType_New_Visitor',\n",
    "       'VisitorType_Returning_Visitor', 'Weekend_False', 'Weekend_True',\n",
    "       'Month_Aug', 'Month_Dec', 'Month_Feb', 'Month_Jul', 'Month_June',\n",
    "       'Month_Mar', 'Month_May', 'Month_Nov', 'Month_Oct', 'Month_Sep']"
   ]
  },
  {
   "cell_type": "code",
   "execution_count": 34,
   "id": "e53c2c8a-45a2-466c-8a16-b93b009989c7",
   "metadata": {
    "scrolled": true
   },
   "outputs": [],
   "source": [
    "# from scipy.stats import pointbiserialr\n",
    "\n",
    "# correlation_results = {}\n",
    "# for column in df[kategori_baru]:\n",
    "#     if column != 'Revenue':  \n",
    "#         corr, p_value = pointbiserialr(df[column], df['Revenue'])\n",
    "#         correlation_results[column] = corr\n",
    "\n",
    "# for column, correlation in correlation_results.items():\n",
    "#     print(f\"Correlation between 'Revenue' and '{column}': {correlation:.2f}\")\n"
   ]
  },
  {
   "cell_type": "markdown",
   "id": "bf7e53f4-5246-47c6-91d5-a7970a5b06e9",
   "metadata": {},
   "source": [
    "**Feature Selection**"
   ]
  },
  {
   "cell_type": "markdown",
   "id": "cf7757ab-b2a2-47ae-b1dd-4dc793ef2eea",
   "metadata": {},
   "source": [
    "Mengdrop feature:  \n",
    "-Administrative_Duration karena highly correlated dengan Administrative  \n",
    "-Informational_Duration karena highly correlated dengan Informational  \n",
    "-ProductRelated_Duration karena highly correlated dengan ProductRelated  \n",
    "-SpecialDay karena korelasi dengan target sangat rendah  \n",
    "\n"
   ]
  },
  {
   "cell_type": "markdown",
   "id": "499b3079-8bbd-4bf4-a196-1a6800301d91",
   "metadata": {},
   "source": [
    "**Feature Extraction**"
   ]
  },
  {
   "cell_type": "markdown",
   "id": "651a21b7-edeb-432c-9389-0932f10ec01d",
   "metadata": {},
   "source": [
    "Average Session Duration: Menghitung rata-rata waktu yang dihabiskan oleh pelanggan dengan membagi 'ProductRelated_Duration' dan 'ProductRelated'.\n"
   ]
  },
  {
   "cell_type": "markdown",
   "id": "160cf460-1335-4908-8406-f3e0f478bc89",
   "metadata": {},
   "source": [
    "**Feature Tambahan**"
   ]
  },
  {
   "cell_type": "markdown",
   "id": "cb0d999b-8a94-4b48-a2ab-9e5c3e9b783c",
   "metadata": {},
   "source": [
    "1. Session hour\n",
    "2. Has promo\n",
    "3. Top product related\n",
    "4. Kategori"
   ]
  },
  {
   "attachments": {},
   "cell_type": "markdown",
   "id": "da49fa16",
   "metadata": {},
   "source": [
    "**Modelling**"
   ]
  },
  {
   "cell_type": "code",
   "execution_count": 65,
   "id": "2b2592e4",
   "metadata": {},
   "outputs": [],
   "source": [
    " result_df = pd.DataFrame(columns=[\n",
    "        'Model',\n",
    "        'Accuracy',\n",
    "        'Precision',\n",
    "        'Recall',\n",
    "        'F1 Score',\n",
    "        'AUC',\n",
    "        'recall_cv'\n",
    "    ])"
   ]
  },
  {
   "cell_type": "code",
   "execution_count": 66,
   "id": "cb24aa7e",
   "metadata": {},
   "outputs": [],
   "source": [
    "from sklearn.metrics import accuracy_score, precision_score, recall_score, f1_score, roc_auc_score\n",
    "from sklearn.model_selection import cross_validate\n",
    "\n",
    "from sklearn.tree import DecisionTreeClassifier\n",
    "from sklearn.ensemble import RandomForestClassifier\n",
    "from sklearn.ensemble import GradientBoostingClassifier\n",
    "from lightgbm import LGBMClassifier\n",
    "from sklearn.neighbors import KNeighborsClassifier\n",
    "from sklearn.linear_model import LogisticRegression\n",
    "import xgboost as xgb\n",
    "\n",
    "def eval_classification(model):\n",
    "    y_pred = model.predict(X_test_scaled)\n",
    "    y_pred_proba = model.predict_proba(X_test_scaled)\n",
    "\n",
    "    acc = accuracy_score(y_test, y_pred)\n",
    "    precision = precision_score(y_test, y_pred)\n",
    "    recall = recall_score(y_test, y_pred)\n",
    "    f1 = f1_score(y_test, y_pred)\n",
    "    auc = roc_auc_score(y_test, y_pred_proba[:, 1])\n",
    "\n",
    "\n",
    "    print(\"Accuracy (Test Set): %.2f\" % acc)\n",
    "    print(\"Precision (Test Set): %.2f\" % precision)\n",
    "    print(\"Recall (Test Set): %.2f\" % recall)\n",
    "    print(\"F1-Score (Test Set): %.2f\" % f1)\n",
    "\n",
    "    print(\"roc_auc (test-proba): %.2f\" % auc)\n",
    "    #\n",
    "    score = cross_validate(model, X_res, y_res, cv=5, scoring='recall', return_train_score=True)\n",
    "    print('recall (crossval test): '+ str(score['test_score'].mean()))\n",
    "\n",
    "    data = pd.DataFrame({\"Model\" : [str(model)],\n",
    "                         'Accuracy' : [acc],\n",
    "                         'Precision' : [precision],\n",
    "                         'Recall' : [recall],\n",
    "                         'F1 Score' : [f1],\n",
    "                         'AUC' : [auc],\n",
    "                         'recall_cv' : [score['test_score'].mean()]\n",
    "                         })\n",
    "\n",
    "    return data\n",
    "\n",
    "\n",
    "def show_feature_importance(model):\n",
    "    feat_importances = pd.Series(model.feature_importances_, index=X.columns)\n",
    "    ax = feat_importances.nlargest(25).plot(kind='barh', figsize=(10, 8))\n",
    "    ax.invert_yaxis()\n",
    "\n",
    "    plt.xlabel('score')\n",
    "    plt.ylabel('feature')\n",
    "    plt.title('feature importance score')\n",
    "\n",
    "def show_feature_coef(model):\n",
    "    coefficients = model.coef_\n",
    "\n",
    "    avg_importance = np.mean(np.abs(coefficients), axis=0)\n",
    "    feature_importance = pd.DataFrame({'Feature': X.columns, 'Importance': avg_importance})\n",
    "    feature_importance = feature_importance.sort_values('Importance', ascending=True)\n",
    "    feature_importance.plot(x='Feature', y='Importance', kind='barh', figsize=(10, 6))\n"
   ]
  },
  {
   "cell_type": "markdown",
   "id": "90049719",
   "metadata": {},
   "source": [
    "### Logistic Regression"
   ]
  },
  {
   "cell_type": "code",
   "execution_count": 67,
   "id": "84455e82",
   "metadata": {},
   "outputs": [
    {
     "name": "stdout",
     "output_type": "stream",
     "text": [
      "Accuracy (Test Set): 0.66\n",
      "Precision (Test Set): 0.91\n",
      "Recall (Test Set): 0.66\n",
      "F1-Score (Test Set): 0.76\n",
      "roc_auc (test-proba): 0.73\n",
      "recall (crossval test): 0.6637621023513139\n"
     ]
    },
    {
     "name": "stderr",
     "output_type": "stream",
     "text": [
      "C:\\Users\\Raffi\\AppData\\Local\\Temp\\ipykernel_1556\\2632207621.py:4: FutureWarning: The behavior of DataFrame concatenation with empty or all-NA entries is deprecated. In a future version, this will no longer exclude empty or all-NA columns when determining the result dtypes. To retain the old behavior, exclude the relevant entries before the concat operation.\n",
      "  result_df = pd.concat([result_df, result], ignore_index=True)\n"
     ]
    }
   ],
   "source": [
    "lr = LogisticRegression() \n",
    "lr.fit(X_res, y_res) \n",
    "result = eval_classification(lr)\n",
    "result_df = pd.concat([result_df, result], ignore_index=True)"
   ]
  },
  {
   "cell_type": "markdown",
   "id": "8e712834",
   "metadata": {},
   "source": [
    "### KNN"
   ]
  },
  {
   "cell_type": "code",
   "execution_count": 69,
   "id": "7351484e",
   "metadata": {},
   "outputs": [
    {
     "name": "stdout",
     "output_type": "stream",
     "text": [
      "Accuracy (Test Set): 0.68\n",
      "Precision (Test Set): 0.86\n",
      "Recall (Test Set): 0.73\n",
      "F1-Score (Test Set): 0.79\n",
      "roc_auc (test-proba): 0.61\n",
      "recall (crossval test): 0.6911479944674965\n"
     ]
    }
   ],
   "source": [
    "k = 3\n",
    "knn = KNeighborsClassifier(n_neighbors=k)\n",
    "knn.fit(X_res, y_res)\n",
    "result = eval_classification(knn)\n",
    "result_df = pd.concat([result_df, result], ignore_index=True)"
   ]
  },
  {
   "cell_type": "markdown",
   "id": "b8f2b35e",
   "metadata": {},
   "source": [
    "### Decision Tree"
   ]
  },
  {
   "cell_type": "code",
   "execution_count": 70,
   "id": "ac5ff405-c49e-4dc4-8e26-616afacd0f93",
   "metadata": {},
   "outputs": [
    {
     "name": "stdout",
     "output_type": "stream",
     "text": [
      "Accuracy (Test Set): 0.74\n",
      "Precision (Test Set): 0.86\n",
      "Recall (Test Set): 0.83\n",
      "F1-Score (Test Set): 0.84\n",
      "roc_auc (test-proba): 0.57\n",
      "recall (crossval test): 0.820746887966805\n"
     ]
    }
   ],
   "source": [
    "dt = DecisionTreeClassifier() \n",
    "dt.fit(X_res, y_res) \n",
    "result = eval_classification(dt)\n",
    "result_df = pd.concat([result_df, result], ignore_index=True)"
   ]
  },
  {
   "cell_type": "markdown",
   "id": "0fb144cf",
   "metadata": {},
   "source": [
    "### Random Forest"
   ]
  },
  {
   "cell_type": "code",
   "execution_count": 71,
   "id": "57d9b869",
   "metadata": {},
   "outputs": [
    {
     "name": "stdout",
     "output_type": "stream",
     "text": [
      "Accuracy (Test Set): 0.81\n",
      "Precision (Test Set): 0.85\n",
      "Recall (Test Set): 0.93\n",
      "F1-Score (Test Set): 0.89\n",
      "roc_auc (test-proba): 0.73\n",
      "recall (crossval test): 0.9269709543568464\n"
     ]
    }
   ],
   "source": [
    "rf = RandomForestClassifier() # inisiasi object dengan nama rf\n",
    "rf.fit(X_res, y_res) # fit model decision tree dari data train\n",
    "result = eval_classification(rf)\n",
    "result_df = pd.concat([result_df, result], ignore_index=True)"
   ]
  },
  {
   "cell_type": "markdown",
   "id": "700d32fd",
   "metadata": {},
   "source": [
    "### Gradient Boosting"
   ]
  },
  {
   "cell_type": "code",
   "execution_count": 72,
   "id": "a3862627",
   "metadata": {},
   "outputs": [
    {
     "name": "stdout",
     "output_type": "stream",
     "text": [
      "Accuracy (Test Set): 0.80\n",
      "Precision (Test Set): 0.86\n",
      "Recall (Test Set): 0.91\n",
      "F1-Score (Test Set): 0.89\n",
      "roc_auc (test-proba): 0.74\n",
      "recall (crossval test): 0.9071922544951591\n"
     ]
    }
   ],
   "source": [
    "gb = GradientBoostingClassifier() # inisiasi object dengan nama rf\n",
    "gb.fit(X_res, y_res) # fit model decision tree dari data train\n",
    "result = eval_classification(gb)\n",
    "result_df = pd.concat([result_df, result], ignore_index=True)"
   ]
  },
  {
   "cell_type": "markdown",
   "id": "b0368b3f",
   "metadata": {},
   "source": [
    "### Light gradient boosting"
   ]
  },
  {
   "cell_type": "code",
   "execution_count": 73,
   "id": "cf0406c3",
   "metadata": {},
   "outputs": [
    {
     "name": "stdout",
     "output_type": "stream",
     "text": [
      "[LightGBM] [Info] Number of positive: 7230, number of negative: 7230\n",
      "[LightGBM] [Info] Auto-choosing row-wise multi-threading, the overhead of testing was 0.012861 seconds.\n",
      "You can set `force_row_wise=true` to remove the overhead.\n",
      "And if memory is not enough, you can set `force_col_wise=true`.\n",
      "[LightGBM] [Info] Total Bins 6783\n",
      "[LightGBM] [Info] Number of data points in the train set: 14460, number of used features: 53\n",
      "[LightGBM] [Info] [binary:BoostFromScore]: pavg=0.500000 -> initscore=0.000000\n",
      "Accuracy (Test Set): 0.82\n",
      "Precision (Test Set): 0.85\n",
      "Recall (Test Set): 0.95\n",
      "F1-Score (Test Set): 0.90\n",
      "roc_auc (test-proba): 0.75\n",
      "[LightGBM] [Info] Number of positive: 5784, number of negative: 5784\n",
      "[LightGBM] [Info] Auto-choosing col-wise multi-threading, the overhead of testing was 0.008837 seconds.\n",
      "You can set `force_col_wise=true` to remove the overhead.\n",
      "[LightGBM] [Info] Total Bins 6771\n",
      "[LightGBM] [Info] Number of data points in the train set: 11568, number of used features: 53\n",
      "[LightGBM] [Info] [binary:BoostFromScore]: pavg=0.500000 -> initscore=0.000000\n",
      "[LightGBM] [Info] Number of positive: 5784, number of negative: 5784\n",
      "[LightGBM] [Info] Auto-choosing col-wise multi-threading, the overhead of testing was 0.008222 seconds.\n",
      "You can set `force_col_wise=true` to remove the overhead.\n",
      "[LightGBM] [Info] Total Bins 5869\n",
      "[LightGBM] [Info] Number of data points in the train set: 11568, number of used features: 53\n",
      "[LightGBM] [Info] [binary:BoostFromScore]: pavg=0.500000 -> initscore=0.000000\n",
      "[LightGBM] [Info] Number of positive: 5784, number of negative: 5784\n",
      "[LightGBM] [Info] Auto-choosing col-wise multi-threading, the overhead of testing was 0.007582 seconds.\n",
      "You can set `force_col_wise=true` to remove the overhead.\n",
      "[LightGBM] [Info] Total Bins 5896\n",
      "[LightGBM] [Info] Number of data points in the train set: 11568, number of used features: 53\n",
      "[LightGBM] [Info] [binary:BoostFromScore]: pavg=0.500000 -> initscore=0.000000\n",
      "[LightGBM] [Info] Number of positive: 5784, number of negative: 5784\n",
      "[LightGBM] [Info] Auto-choosing col-wise multi-threading, the overhead of testing was 0.009051 seconds.\n",
      "You can set `force_col_wise=true` to remove the overhead.\n",
      "[LightGBM] [Info] Total Bins 5698\n",
      "[LightGBM] [Info] Number of data points in the train set: 11568, number of used features: 53\n",
      "[LightGBM] [Info] [binary:BoostFromScore]: pavg=0.500000 -> initscore=0.000000\n",
      "[LightGBM] [Info] Number of positive: 5784, number of negative: 5784\n",
      "[LightGBM] [Info] Auto-choosing col-wise multi-threading, the overhead of testing was 0.007194 seconds.\n",
      "You can set `force_col_wise=true` to remove the overhead.\n",
      "[LightGBM] [Info] Total Bins 5888\n",
      "[LightGBM] [Info] Number of data points in the train set: 11568, number of used features: 53\n",
      "[LightGBM] [Info] [binary:BoostFromScore]: pavg=0.500000 -> initscore=0.000000\n",
      "recall (crossval test): 0.9463347164591978\n"
     ]
    }
   ],
   "source": [
    "lgb = LGBMClassifier() # inisiasi object dengan nama rf\n",
    "lgb.fit(X_res, y_res) # fit model decision tree dari data train\n",
    "result = eval_classification(lgb)\n",
    "result_df = pd.concat([result_df, result], ignore_index=True)"
   ]
  },
  {
   "cell_type": "markdown",
   "id": "1fd0f156",
   "metadata": {},
   "source": [
    "### XGBoost"
   ]
  },
  {
   "cell_type": "code",
   "execution_count": 74,
   "id": "70995680",
   "metadata": {},
   "outputs": [
    {
     "name": "stdout",
     "output_type": "stream",
     "text": [
      "Accuracy (Test Set): 0.81\n",
      "Precision (Test Set): 0.85\n",
      "Recall (Test Set): 0.95\n",
      "F1-Score (Test Set): 0.89\n",
      "roc_auc (test-proba): 0.73\n",
      "recall (crossval test): 0.9410788381742738\n"
     ]
    }
   ],
   "source": [
    "XGboost = xgb.XGBClassifier()\n",
    "XGboost.fit(X_res, y_res)\n",
    "result = eval_classification(XGboost)\n",
    "result_df = pd.concat([result_df, result], ignore_index=True)"
   ]
  },
  {
   "cell_type": "code",
   "execution_count": 75,
   "id": "6e501d70",
   "metadata": {},
   "outputs": [
    {
     "data": {
      "text/html": [
       "<div>\n",
       "<style scoped>\n",
       "    .dataframe tbody tr th:only-of-type {\n",
       "        vertical-align: middle;\n",
       "    }\n",
       "\n",
       "    .dataframe tbody tr th {\n",
       "        vertical-align: top;\n",
       "    }\n",
       "\n",
       "    .dataframe thead th {\n",
       "        text-align: right;\n",
       "    }\n",
       "</style>\n",
       "<table border=\"1\" class=\"dataframe\">\n",
       "  <thead>\n",
       "    <tr style=\"text-align: right;\">\n",
       "      <th></th>\n",
       "      <th>Model</th>\n",
       "      <th>Accuracy</th>\n",
       "      <th>Precision</th>\n",
       "      <th>Recall</th>\n",
       "      <th>F1 Score</th>\n",
       "      <th>AUC</th>\n",
       "      <th>recall_cv</th>\n",
       "    </tr>\n",
       "  </thead>\n",
       "  <tbody>\n",
       "    <tr>\n",
       "      <th>0</th>\n",
       "      <td>LogisticRegression()</td>\n",
       "      <td>0.663246</td>\n",
       "      <td>0.911925</td>\n",
       "      <td>0.657673</td>\n",
       "      <td>0.764206</td>\n",
       "      <td>0.733900</td>\n",
       "      <td>0.663762</td>\n",
       "    </tr>\n",
       "    <tr>\n",
       "      <th>1</th>\n",
       "      <td>KNeighborsClassifier(n_neighbors=3)</td>\n",
       "      <td>0.681437</td>\n",
       "      <td>0.861955</td>\n",
       "      <td>0.733558</td>\n",
       "      <td>0.792590</td>\n",
       "      <td>0.610719</td>\n",
       "      <td>0.691148</td>\n",
       "    </tr>\n",
       "    <tr>\n",
       "      <th>2</th>\n",
       "      <td>DecisionTreeClassifier()</td>\n",
       "      <td>0.743937</td>\n",
       "      <td>0.855903</td>\n",
       "      <td>0.831366</td>\n",
       "      <td>0.843456</td>\n",
       "      <td>0.574587</td>\n",
       "      <td>0.820747</td>\n",
       "    </tr>\n",
       "    <tr>\n",
       "      <th>3</th>\n",
       "      <td>RandomForestClassifier()</td>\n",
       "      <td>0.809235</td>\n",
       "      <td>0.854188</td>\n",
       "      <td>0.928612</td>\n",
       "      <td>0.889846</td>\n",
       "      <td>0.730743</td>\n",
       "      <td>0.926971</td>\n",
       "    </tr>\n",
       "    <tr>\n",
       "      <th>4</th>\n",
       "      <td>GradientBoostingClassifier()</td>\n",
       "      <td>0.804571</td>\n",
       "      <td>0.863636</td>\n",
       "      <td>0.907813</td>\n",
       "      <td>0.885174</td>\n",
       "      <td>0.743894</td>\n",
       "      <td>0.907192</td>\n",
       "    </tr>\n",
       "    <tr>\n",
       "      <th>5</th>\n",
       "      <td>LGBMClassifier()</td>\n",
       "      <td>0.821362</td>\n",
       "      <td>0.850050</td>\n",
       "      <td>0.952782</td>\n",
       "      <td>0.898489</td>\n",
       "      <td>0.748514</td>\n",
       "      <td>0.946335</td>\n",
       "    </tr>\n",
       "    <tr>\n",
       "      <th>6</th>\n",
       "      <td>XGBClassifier(base_score=0.5, booster='gbtree'...</td>\n",
       "      <td>0.814832</td>\n",
       "      <td>0.846192</td>\n",
       "      <td>0.949410</td>\n",
       "      <td>0.894834</td>\n",
       "      <td>0.731291</td>\n",
       "      <td>0.941079</td>\n",
       "    </tr>\n",
       "  </tbody>\n",
       "</table>\n",
       "</div>"
      ],
      "text/plain": [
       "                                               Model  Accuracy  Precision  \\\n",
       "0                               LogisticRegression()  0.663246   0.911925   \n",
       "1                KNeighborsClassifier(n_neighbors=3)  0.681437   0.861955   \n",
       "2                           DecisionTreeClassifier()  0.743937   0.855903   \n",
       "3                           RandomForestClassifier()  0.809235   0.854188   \n",
       "4                       GradientBoostingClassifier()  0.804571   0.863636   \n",
       "5                                   LGBMClassifier()  0.821362   0.850050   \n",
       "6  XGBClassifier(base_score=0.5, booster='gbtree'...  0.814832   0.846192   \n",
       "\n",
       "     Recall  F1 Score       AUC  recall_cv  \n",
       "0  0.657673  0.764206  0.733900   0.663762  \n",
       "1  0.733558  0.792590  0.610719   0.691148  \n",
       "2  0.831366  0.843456  0.574587   0.820747  \n",
       "3  0.928612  0.889846  0.730743   0.926971  \n",
       "4  0.907813  0.885174  0.743894   0.907192  \n",
       "5  0.952782  0.898489  0.748514   0.946335  \n",
       "6  0.949410  0.894834  0.731291   0.941079  "
      ]
     },
     "execution_count": 75,
     "metadata": {},
     "output_type": "execute_result"
    }
   ],
   "source": [
    "result_df"
   ]
  },
  {
   "cell_type": "code",
   "execution_count": 76,
   "id": "63e6966d",
   "metadata": {},
   "outputs": [
    {
     "data": {
      "image/png": "[encoded data removed]",
      "text/plain": [
       "<Figure size 1000x800 with 1 Axes>"
      ]
     },
     "metadata": {},
     "output_type": "display_data"
    }
   ],
   "source": [
    "show_feature_importance(lgb)"
   ]
  },
  {
   "cell_type": "code",
   "execution_count": 45,
   "id": "683cc5b5",
   "metadata": {},
   "outputs": [
    {
     "name": "stdout",
     "output_type": "stream",
     "text": [
      "[LightGBM] [Warning] Unknown parameter: n_estimator\n",
      "[LightGBM] [Warning] Accuracy may be bad since you didn't explicitly set num_leaves OR 2^max_depth > num_leaves. (num_leaves=31).\n",
      "[LightGBM] [Warning] Unknown parameter: n_estimator\n",
      "[LightGBM] [Warning] Accuracy may be bad since you didn't explicitly set num_leaves OR 2^max_depth > num_leaves. (num_leaves=31).\n",
      "[LightGBM] [Info] Number of positive: 5784, number of negative: 5784\n"
     ]
    },
    {
     "name": "stdout",
     "output_type": "stream",
     "text": [
      "[LightGBM] [Info] Auto-choosing row-wise multi-threading, the overhead of testing was 0.005457 seconds.\n",
      "You can set `force_row_wise=true` to remove the overhead.\n",
      "And if memory is not enough, you can set `force_col_wise=true`.\n",
      "[LightGBM] [Info] Total Bins 6771\n",
      "[LightGBM] [Info] Number of data points in the train set: 11568, number of used features: 53\n",
      "[LightGBM] [Info] [binary:BoostFromScore]: pavg=0.500000 -> initscore=0.000000\n",
      "[LightGBM] [Warning] Unknown parameter: n_estimator\n",
      "[LightGBM] [Warning] Accuracy may be bad since you didn't explicitly set num_leaves OR 2^max_depth > num_leaves. (num_leaves=31).\n",
      "[LightGBM] [Warning] Unknown parameter: n_estimator\n",
      "[LightGBM] [Warning] Accuracy may be bad since you didn't explicitly set num_leaves OR 2^max_depth > num_leaves. (num_leaves=31).\n",
      "[LightGBM] [Warning] Unknown parameter: n_estimator\n",
      "[LightGBM] [Warning] Accuracy may be bad since you didn't explicitly set num_leaves OR 2^max_depth > num_leaves. (num_leaves=31).\n",
      "[LightGBM] [Info] Number of positive: 5784, number of negative: 5784\n",
      "[LightGBM] [Info] Auto-choosing row-wise multi-threading, the overhead of testing was 0.006132 seconds.\n",
      "You can set `force_row_wise=true` to remove the overhead.\n",
      "And if memory is not enough, you can set `force_col_wise=true`.\n",
      "[LightGBM] [Info] Total Bins 5869\n",
      "[LightGBM] [Info] Number of data points in the train set: 11568, number of used features: 53\n",
      "[LightGBM] [Info] [binary:BoostFromScore]: pavg=0.500000 -> initscore=0.000000\n",
      "[LightGBM] [Warning] Unknown parameter: n_estimator\n",
      "[LightGBM] [Warning] Accuracy may be bad since you didn't explicitly set num_leaves OR 2^max_depth > num_leaves. (num_leaves=31).\n",
      "[LightGBM] [Warning] Unknown parameter: n_estimator\n",
      "[LightGBM] [Warning] Accuracy may be bad since you didn't explicitly set num_leaves OR 2^max_depth > num_leaves. (num_leaves=31).\n",
      "[LightGBM] [Warning] Unknown parameter: n_estimator\n",
      "[LightGBM] [Warning] Accuracy may be bad since you didn't explicitly set num_leaves OR 2^max_depth > num_leaves. (num_leaves=31).\n",
      "[LightGBM] [Info] Number of positive: 5784, number of negative: 5784\n",
      "[LightGBM] [Info] Auto-choosing col-wise multi-threading, the overhead of testing was 0.007160 seconds.\n",
      "You can set `force_col_wise=true` to remove the overhead.\n",
      "[LightGBM] [Info] Total Bins 5896\n",
      "[LightGBM] [Info] Number of data points in the train set: 11568, number of used features: 53\n",
      "[LightGBM] [Info] [binary:BoostFromScore]: pavg=0.500000 -> initscore=0.000000\n",
      "[LightGBM] [Warning] Unknown parameter: n_estimator\n",
      "[LightGBM] [Warning] Accuracy may be bad since you didn't explicitly set num_leaves OR 2^max_depth > num_leaves. (num_leaves=31).\n",
      "[LightGBM] [Warning] Unknown parameter: n_estimator\n",
      "[LightGBM] [Warning] Accuracy may be bad since you didn't explicitly set num_leaves OR 2^max_depth > num_leaves. (num_leaves=31).\n",
      "[LightGBM] [Warning] Unknown parameter: n_estimator\n",
      "[LightGBM] [Warning] Accuracy may be bad since you didn't explicitly set num_leaves OR 2^max_depth > num_leaves. (num_leaves=31).\n",
      "[LightGBM] [Info] Number of positive: 5784, number of negative: 5784\n",
      "[LightGBM] [Info] Auto-choosing col-wise multi-threading, the overhead of testing was 0.009234 seconds.\n",
      "You can set `force_col_wise=true` to remove the overhead.\n",
      "[LightGBM] [Info] Total Bins 5698\n",
      "[LightGBM] [Info] Number of data points in the train set: 11568, number of used features: 53\n",
      "[LightGBM] [Info] [binary:BoostFromScore]: pavg=0.500000 -> initscore=0.000000\n"
     ]
    },
    {
     "ename": "KeyboardInterrupt",
     "evalue": "",
     "output_type": "error",
     "traceback": [
      "\u001b[1;31m---------------------------------------------------------------------------\u001b[0m",
      "\u001b[1;31mKeyboardInterrupt\u001b[0m                         Traceback (most recent call last)",
      "Cell \u001b[1;32mIn[45], line 23\u001b[0m\n\u001b[0;32m     21\u001b[0m lgb \u001b[38;5;241m=\u001b[39m LGBMClassifier(random_state\u001b[38;5;241m=\u001b[39m\u001b[38;5;241m42\u001b[39m)\n\u001b[0;32m     22\u001b[0m model \u001b[38;5;241m=\u001b[39m GridSearchCV(lgb, hyperparameters, cv\u001b[38;5;241m=\u001b[39m\u001b[38;5;241m5\u001b[39m, scoring\u001b[38;5;241m=\u001b[39m\u001b[38;5;124m'\u001b[39m\u001b[38;5;124mprecision\u001b[39m\u001b[38;5;124m'\u001b[39m)\n\u001b[1;32m---> 23\u001b[0m \u001b[43mmodel\u001b[49m\u001b[38;5;241;43m.\u001b[39;49m\u001b[43mfit\u001b[49m\u001b[43m(\u001b[49m\u001b[43mX_res\u001b[49m\u001b[43m,\u001b[49m\u001b[43m \u001b[49m\u001b[43my_res\u001b[49m\u001b[43m)\u001b[49m\n\u001b[0;32m     25\u001b[0m \u001b[38;5;66;03m# Predict & Evaluation\u001b[39;00m\n\u001b[0;32m     26\u001b[0m y_pred \u001b[38;5;241m=\u001b[39m model\u001b[38;5;241m.\u001b[39mpredict(X_test_scaled)\u001b[38;5;66;03m#Check performa dari model\u001b[39;00m\n",
      "File \u001b[1;32m~\\AppData\\Roaming\\Python\\Python39\\site-packages\\sklearn\\base.py:1474\u001b[0m, in \u001b[0;36m_fit_context.<locals>.decorator.<locals>.wrapper\u001b[1;34m(estimator, *args, **kwargs)\u001b[0m\n\u001b[0;32m   1467\u001b[0m     estimator\u001b[38;5;241m.\u001b[39m_validate_params()\n\u001b[0;32m   1469\u001b[0m \u001b[38;5;28;01mwith\u001b[39;00m config_context(\n\u001b[0;32m   1470\u001b[0m     skip_parameter_validation\u001b[38;5;241m=\u001b[39m(\n\u001b[0;32m   1471\u001b[0m         prefer_skip_nested_validation \u001b[38;5;129;01mor\u001b[39;00m global_skip_validation\n\u001b[0;32m   1472\u001b[0m     )\n\u001b[0;32m   1473\u001b[0m ):\n\u001b[1;32m-> 1474\u001b[0m     \u001b[38;5;28;01mreturn\u001b[39;00m fit_method(estimator, \u001b[38;5;241m*\u001b[39margs, \u001b[38;5;241m*\u001b[39m\u001b[38;5;241m*\u001b[39mkwargs)\n",
      "File \u001b[1;32m~\\AppData\\Roaming\\Python\\Python39\\site-packages\\sklearn\\model_selection\\_search.py:970\u001b[0m, in \u001b[0;36mBaseSearchCV.fit\u001b[1;34m(self, X, y, **params)\u001b[0m\n\u001b[0;32m    964\u001b[0m     results \u001b[38;5;241m=\u001b[39m \u001b[38;5;28mself\u001b[39m\u001b[38;5;241m.\u001b[39m_format_results(\n\u001b[0;32m    965\u001b[0m         all_candidate_params, n_splits, all_out, all_more_results\n\u001b[0;32m    966\u001b[0m     )\n\u001b[0;32m    968\u001b[0m     \u001b[38;5;28;01mreturn\u001b[39;00m results\n\u001b[1;32m--> 970\u001b[0m \u001b[38;5;28;43mself\u001b[39;49m\u001b[38;5;241;43m.\u001b[39;49m\u001b[43m_run_search\u001b[49m\u001b[43m(\u001b[49m\u001b[43mevaluate_candidates\u001b[49m\u001b[43m)\u001b[49m\n\u001b[0;32m    972\u001b[0m \u001b[38;5;66;03m# multimetric is determined here because in the case of a callable\u001b[39;00m\n\u001b[0;32m    973\u001b[0m \u001b[38;5;66;03m# self.scoring the return type is only known after calling\u001b[39;00m\n\u001b[0;32m    974\u001b[0m first_test_score \u001b[38;5;241m=\u001b[39m all_out[\u001b[38;5;241m0\u001b[39m][\u001b[38;5;124m\"\u001b[39m\u001b[38;5;124mtest_scores\u001b[39m\u001b[38;5;124m\"\u001b[39m]\n",
      "File \u001b[1;32m~\\AppData\\Roaming\\Python\\Python39\\site-packages\\sklearn\\model_selection\\_search.py:1527\u001b[0m, in \u001b[0;36mGridSearchCV._run_search\u001b[1;34m(self, evaluate_candidates)\u001b[0m\n\u001b[0;32m   1525\u001b[0m \u001b[38;5;28;01mdef\u001b[39;00m \u001b[38;5;21m_run_search\u001b[39m(\u001b[38;5;28mself\u001b[39m, evaluate_candidates):\n\u001b[0;32m   1526\u001b[0m     \u001b[38;5;124;03m\"\"\"Search all candidates in param_grid\"\"\"\u001b[39;00m\n\u001b[1;32m-> 1527\u001b[0m     \u001b[43mevaluate_candidates\u001b[49m\u001b[43m(\u001b[49m\u001b[43mParameterGrid\u001b[49m\u001b[43m(\u001b[49m\u001b[38;5;28;43mself\u001b[39;49m\u001b[38;5;241;43m.\u001b[39;49m\u001b[43mparam_grid\u001b[49m\u001b[43m)\u001b[49m\u001b[43m)\u001b[49m\n",
      "File \u001b[1;32m~\\AppData\\Roaming\\Python\\Python39\\site-packages\\sklearn\\model_selection\\_search.py:916\u001b[0m, in \u001b[0;36mBaseSearchCV.fit.<locals>.evaluate_candidates\u001b[1;34m(candidate_params, cv, more_results)\u001b[0m\n\u001b[0;32m    908\u001b[0m \u001b[38;5;28;01mif\u001b[39;00m \u001b[38;5;28mself\u001b[39m\u001b[38;5;241m.\u001b[39mverbose \u001b[38;5;241m>\u001b[39m \u001b[38;5;241m0\u001b[39m:\n\u001b[0;32m    909\u001b[0m     \u001b[38;5;28mprint\u001b[39m(\n\u001b[0;32m    910\u001b[0m         \u001b[38;5;124m\"\u001b[39m\u001b[38;5;124mFitting \u001b[39m\u001b[38;5;132;01m{0}\u001b[39;00m\u001b[38;5;124m folds for each of \u001b[39m\u001b[38;5;132;01m{1}\u001b[39;00m\u001b[38;5;124m candidates,\u001b[39m\u001b[38;5;124m\"\u001b[39m\n\u001b[0;32m    911\u001b[0m         \u001b[38;5;124m\"\u001b[39m\u001b[38;5;124m totalling \u001b[39m\u001b[38;5;132;01m{2}\u001b[39;00m\u001b[38;5;124m fits\u001b[39m\u001b[38;5;124m\"\u001b[39m\u001b[38;5;241m.\u001b[39mformat(\n\u001b[0;32m    912\u001b[0m             n_splits, n_candidates, n_candidates \u001b[38;5;241m*\u001b[39m n_splits\n\u001b[0;32m    913\u001b[0m         )\n\u001b[0;32m    914\u001b[0m     )\n\u001b[1;32m--> 916\u001b[0m out \u001b[38;5;241m=\u001b[39m \u001b[43mparallel\u001b[49m\u001b[43m(\u001b[49m\n\u001b[0;32m    917\u001b[0m \u001b[43m    \u001b[49m\u001b[43mdelayed\u001b[49m\u001b[43m(\u001b[49m\u001b[43m_fit_and_score\u001b[49m\u001b[43m)\u001b[49m\u001b[43m(\u001b[49m\n\u001b[0;32m    918\u001b[0m \u001b[43m        \u001b[49m\u001b[43mclone\u001b[49m\u001b[43m(\u001b[49m\u001b[43mbase_estimator\u001b[49m\u001b[43m)\u001b[49m\u001b[43m,\u001b[49m\n\u001b[0;32m    919\u001b[0m \u001b[43m        \u001b[49m\u001b[43mX\u001b[49m\u001b[43m,\u001b[49m\n\u001b[0;32m    920\u001b[0m \u001b[43m        \u001b[49m\u001b[43my\u001b[49m\u001b[43m,\u001b[49m\n\u001b[0;32m    921\u001b[0m \u001b[43m        \u001b[49m\u001b[43mtrain\u001b[49m\u001b[38;5;241;43m=\u001b[39;49m\u001b[43mtrain\u001b[49m\u001b[43m,\u001b[49m\n\u001b[0;32m    922\u001b[0m \u001b[43m        \u001b[49m\u001b[43mtest\u001b[49m\u001b[38;5;241;43m=\u001b[39;49m\u001b[43mtest\u001b[49m\u001b[43m,\u001b[49m\n\u001b[0;32m    923\u001b[0m \u001b[43m        \u001b[49m\u001b[43mparameters\u001b[49m\u001b[38;5;241;43m=\u001b[39;49m\u001b[43mparameters\u001b[49m\u001b[43m,\u001b[49m\n\u001b[0;32m    924\u001b[0m \u001b[43m        \u001b[49m\u001b[43msplit_progress\u001b[49m\u001b[38;5;241;43m=\u001b[39;49m\u001b[43m(\u001b[49m\u001b[43msplit_idx\u001b[49m\u001b[43m,\u001b[49m\u001b[43m \u001b[49m\u001b[43mn_splits\u001b[49m\u001b[43m)\u001b[49m\u001b[43m,\u001b[49m\n\u001b[0;32m    925\u001b[0m \u001b[43m        \u001b[49m\u001b[43mcandidate_progress\u001b[49m\u001b[38;5;241;43m=\u001b[39;49m\u001b[43m(\u001b[49m\u001b[43mcand_idx\u001b[49m\u001b[43m,\u001b[49m\u001b[43m \u001b[49m\u001b[43mn_candidates\u001b[49m\u001b[43m)\u001b[49m\u001b[43m,\u001b[49m\n\u001b[0;32m    926\u001b[0m \u001b[43m        \u001b[49m\u001b[38;5;241;43m*\u001b[39;49m\u001b[38;5;241;43m*\u001b[39;49m\u001b[43mfit_and_score_kwargs\u001b[49m\u001b[43m,\u001b[49m\n\u001b[0;32m    927\u001b[0m \u001b[43m    \u001b[49m\u001b[43m)\u001b[49m\n\u001b[0;32m    928\u001b[0m \u001b[43m    \u001b[49m\u001b[38;5;28;43;01mfor\u001b[39;49;00m\u001b[43m \u001b[49m\u001b[43m(\u001b[49m\u001b[43mcand_idx\u001b[49m\u001b[43m,\u001b[49m\u001b[43m \u001b[49m\u001b[43mparameters\u001b[49m\u001b[43m)\u001b[49m\u001b[43m,\u001b[49m\u001b[43m \u001b[49m\u001b[43m(\u001b[49m\u001b[43msplit_idx\u001b[49m\u001b[43m,\u001b[49m\u001b[43m \u001b[49m\u001b[43m(\u001b[49m\u001b[43mtrain\u001b[49m\u001b[43m,\u001b[49m\u001b[43m \u001b[49m\u001b[43mtest\u001b[49m\u001b[43m)\u001b[49m\u001b[43m)\u001b[49m\u001b[43m \u001b[49m\u001b[38;5;129;43;01min\u001b[39;49;00m\u001b[43m \u001b[49m\u001b[43mproduct\u001b[49m\u001b[43m(\u001b[49m\n\u001b[0;32m    929\u001b[0m \u001b[43m        \u001b[49m\u001b[38;5;28;43menumerate\u001b[39;49m\u001b[43m(\u001b[49m\u001b[43mcandidate_params\u001b[49m\u001b[43m)\u001b[49m\u001b[43m,\u001b[49m\n\u001b[0;32m    930\u001b[0m \u001b[43m        \u001b[49m\u001b[38;5;28;43menumerate\u001b[39;49m\u001b[43m(\u001b[49m\u001b[43mcv\u001b[49m\u001b[38;5;241;43m.\u001b[39;49m\u001b[43msplit\u001b[49m\u001b[43m(\u001b[49m\u001b[43mX\u001b[49m\u001b[43m,\u001b[49m\u001b[43m \u001b[49m\u001b[43my\u001b[49m\u001b[43m,\u001b[49m\u001b[43m \u001b[49m\u001b[38;5;241;43m*\u001b[39;49m\u001b[38;5;241;43m*\u001b[39;49m\u001b[43mrouted_params\u001b[49m\u001b[38;5;241;43m.\u001b[39;49m\u001b[43msplitter\u001b[49m\u001b[38;5;241;43m.\u001b[39;49m\u001b[43msplit\u001b[49m\u001b[43m)\u001b[49m\u001b[43m)\u001b[49m\u001b[43m,\u001b[49m\n\u001b[0;32m    931\u001b[0m \u001b[43m    \u001b[49m\u001b[43m)\u001b[49m\n\u001b[0;32m    932\u001b[0m \u001b[43m\u001b[49m\u001b[43m)\u001b[49m\n\u001b[0;32m    934\u001b[0m \u001b[38;5;28;01mif\u001b[39;00m \u001b[38;5;28mlen\u001b[39m(out) \u001b[38;5;241m<\u001b[39m \u001b[38;5;241m1\u001b[39m:\n\u001b[0;32m    935\u001b[0m     \u001b[38;5;28;01mraise\u001b[39;00m \u001b[38;5;167;01mValueError\u001b[39;00m(\n\u001b[0;32m    936\u001b[0m         \u001b[38;5;124m\"\u001b[39m\u001b[38;5;124mNo fits were performed. \u001b[39m\u001b[38;5;124m\"\u001b[39m\n\u001b[0;32m    937\u001b[0m         \u001b[38;5;124m\"\u001b[39m\u001b[38;5;124mWas the CV iterator empty? \u001b[39m\u001b[38;5;124m\"\u001b[39m\n\u001b[0;32m    938\u001b[0m         \u001b[38;5;124m\"\u001b[39m\u001b[38;5;124mWere there no candidates?\u001b[39m\u001b[38;5;124m\"\u001b[39m\n\u001b[0;32m    939\u001b[0m     )\n",
      "File \u001b[1;32m~\\AppData\\Roaming\\Python\\Python39\\site-packages\\sklearn\\utils\\parallel.py:67\u001b[0m, in \u001b[0;36mParallel.__call__\u001b[1;34m(self, iterable)\u001b[0m\n\u001b[0;32m     62\u001b[0m config \u001b[38;5;241m=\u001b[39m get_config()\n\u001b[0;32m     63\u001b[0m iterable_with_config \u001b[38;5;241m=\u001b[39m (\n\u001b[0;32m     64\u001b[0m     (_with_config(delayed_func, config), args, kwargs)\n\u001b[0;32m     65\u001b[0m     \u001b[38;5;28;01mfor\u001b[39;00m delayed_func, args, kwargs \u001b[38;5;129;01min\u001b[39;00m iterable\n\u001b[0;32m     66\u001b[0m )\n\u001b[1;32m---> 67\u001b[0m \u001b[38;5;28;01mreturn\u001b[39;00m \u001b[38;5;28;43msuper\u001b[39;49m\u001b[43m(\u001b[49m\u001b[43m)\u001b[49m\u001b[38;5;241;43m.\u001b[39;49m\u001b[38;5;21;43m__call__\u001b[39;49m\u001b[43m(\u001b[49m\u001b[43miterable_with_config\u001b[49m\u001b[43m)\u001b[49m\n",
      "File \u001b[1;32m~\\AppData\\Roaming\\Python\\Python39\\site-packages\\joblib\\parallel.py:1918\u001b[0m, in \u001b[0;36mParallel.__call__\u001b[1;34m(self, iterable)\u001b[0m\n\u001b[0;32m   1916\u001b[0m     output \u001b[38;5;241m=\u001b[39m \u001b[38;5;28mself\u001b[39m\u001b[38;5;241m.\u001b[39m_get_sequential_output(iterable)\n\u001b[0;32m   1917\u001b[0m     \u001b[38;5;28mnext\u001b[39m(output)\n\u001b[1;32m-> 1918\u001b[0m     \u001b[38;5;28;01mreturn\u001b[39;00m output \u001b[38;5;28;01mif\u001b[39;00m \u001b[38;5;28mself\u001b[39m\u001b[38;5;241m.\u001b[39mreturn_generator \u001b[38;5;28;01melse\u001b[39;00m \u001b[38;5;28;43mlist\u001b[39;49m\u001b[43m(\u001b[49m\u001b[43moutput\u001b[49m\u001b[43m)\u001b[49m\n\u001b[0;32m   1920\u001b[0m \u001b[38;5;66;03m# Let's create an ID that uniquely identifies the current call. If the\u001b[39;00m\n\u001b[0;32m   1921\u001b[0m \u001b[38;5;66;03m# call is interrupted early and that the same instance is immediately\u001b[39;00m\n\u001b[0;32m   1922\u001b[0m \u001b[38;5;66;03m# re-used, this id will be used to prevent workers that were\u001b[39;00m\n\u001b[0;32m   1923\u001b[0m \u001b[38;5;66;03m# concurrently finalizing a task from the previous call to run the\u001b[39;00m\n\u001b[0;32m   1924\u001b[0m \u001b[38;5;66;03m# callback.\u001b[39;00m\n\u001b[0;32m   1925\u001b[0m \u001b[38;5;28;01mwith\u001b[39;00m \u001b[38;5;28mself\u001b[39m\u001b[38;5;241m.\u001b[39m_lock:\n",
      "File \u001b[1;32m~\\AppData\\Roaming\\Python\\Python39\\site-packages\\joblib\\parallel.py:1847\u001b[0m, in \u001b[0;36mParallel._get_sequential_output\u001b[1;34m(self, iterable)\u001b[0m\n\u001b[0;32m   1845\u001b[0m \u001b[38;5;28mself\u001b[39m\u001b[38;5;241m.\u001b[39mn_dispatched_batches \u001b[38;5;241m+\u001b[39m\u001b[38;5;241m=\u001b[39m \u001b[38;5;241m1\u001b[39m\n\u001b[0;32m   1846\u001b[0m \u001b[38;5;28mself\u001b[39m\u001b[38;5;241m.\u001b[39mn_dispatched_tasks \u001b[38;5;241m+\u001b[39m\u001b[38;5;241m=\u001b[39m \u001b[38;5;241m1\u001b[39m\n\u001b[1;32m-> 1847\u001b[0m res \u001b[38;5;241m=\u001b[39m func(\u001b[38;5;241m*\u001b[39margs, \u001b[38;5;241m*\u001b[39m\u001b[38;5;241m*\u001b[39mkwargs)\n\u001b[0;32m   1848\u001b[0m \u001b[38;5;28mself\u001b[39m\u001b[38;5;241m.\u001b[39mn_completed_tasks \u001b[38;5;241m+\u001b[39m\u001b[38;5;241m=\u001b[39m \u001b[38;5;241m1\u001b[39m\n\u001b[0;32m   1849\u001b[0m \u001b[38;5;28mself\u001b[39m\u001b[38;5;241m.\u001b[39mprint_progress()\n",
      "File \u001b[1;32m~\\AppData\\Roaming\\Python\\Python39\\site-packages\\sklearn\\utils\\parallel.py:129\u001b[0m, in \u001b[0;36m_FuncWrapper.__call__\u001b[1;34m(self, *args, **kwargs)\u001b[0m\n\u001b[0;32m    127\u001b[0m     config \u001b[38;5;241m=\u001b[39m {}\n\u001b[0;32m    128\u001b[0m \u001b[38;5;28;01mwith\u001b[39;00m config_context(\u001b[38;5;241m*\u001b[39m\u001b[38;5;241m*\u001b[39mconfig):\n\u001b[1;32m--> 129\u001b[0m     \u001b[38;5;28;01mreturn\u001b[39;00m \u001b[38;5;28mself\u001b[39m\u001b[38;5;241m.\u001b[39mfunction(\u001b[38;5;241m*\u001b[39margs, \u001b[38;5;241m*\u001b[39m\u001b[38;5;241m*\u001b[39mkwargs)\n",
      "File \u001b[1;32m~\\AppData\\Roaming\\Python\\Python39\\site-packages\\sklearn\\model_selection\\_validation.py:895\u001b[0m, in \u001b[0;36m_fit_and_score\u001b[1;34m(estimator, X, y, scorer, train, test, verbose, parameters, fit_params, score_params, return_train_score, return_parameters, return_n_test_samples, return_times, return_estimator, split_progress, candidate_progress, error_score)\u001b[0m\n\u001b[0;32m    893\u001b[0m         estimator\u001b[38;5;241m.\u001b[39mfit(X_train, \u001b[38;5;241m*\u001b[39m\u001b[38;5;241m*\u001b[39mfit_params)\n\u001b[0;32m    894\u001b[0m     \u001b[38;5;28;01melse\u001b[39;00m:\n\u001b[1;32m--> 895\u001b[0m         estimator\u001b[38;5;241m.\u001b[39mfit(X_train, y_train, \u001b[38;5;241m*\u001b[39m\u001b[38;5;241m*\u001b[39mfit_params)\n\u001b[0;32m    897\u001b[0m \u001b[38;5;28;01mexcept\u001b[39;00m \u001b[38;5;167;01mException\u001b[39;00m:\n\u001b[0;32m    898\u001b[0m     \u001b[38;5;66;03m# Note fit time as time until error\u001b[39;00m\n\u001b[0;32m    899\u001b[0m     fit_time \u001b[38;5;241m=\u001b[39m time\u001b[38;5;241m.\u001b[39mtime() \u001b[38;5;241m-\u001b[39m start_time\n",
      "File \u001b[1;32m~\\AppData\\Roaming\\Python\\Python39\\site-packages\\lightgbm\\sklearn.py:1187\u001b[0m, in \u001b[0;36mLGBMClassifier.fit\u001b[1;34m(self, X, y, sample_weight, init_score, eval_set, eval_names, eval_sample_weight, eval_class_weight, eval_init_score, eval_metric, feature_name, categorical_feature, callbacks, init_model)\u001b[0m\n\u001b[0;32m   1184\u001b[0m         \u001b[38;5;28;01melse\u001b[39;00m:\n\u001b[0;32m   1185\u001b[0m             valid_sets\u001b[38;5;241m.\u001b[39mappend((valid_x, \u001b[38;5;28mself\u001b[39m\u001b[38;5;241m.\u001b[39m_le\u001b[38;5;241m.\u001b[39mtransform(valid_y)))\n\u001b[1;32m-> 1187\u001b[0m \u001b[38;5;28;43msuper\u001b[39;49m\u001b[43m(\u001b[49m\u001b[43m)\u001b[49m\u001b[38;5;241;43m.\u001b[39;49m\u001b[43mfit\u001b[49m\u001b[43m(\u001b[49m\n\u001b[0;32m   1188\u001b[0m \u001b[43m    \u001b[49m\u001b[43mX\u001b[49m\u001b[43m,\u001b[49m\n\u001b[0;32m   1189\u001b[0m \u001b[43m    \u001b[49m\u001b[43m_y\u001b[49m\u001b[43m,\u001b[49m\n\u001b[0;32m   1190\u001b[0m \u001b[43m    \u001b[49m\u001b[43msample_weight\u001b[49m\u001b[38;5;241;43m=\u001b[39;49m\u001b[43msample_weight\u001b[49m\u001b[43m,\u001b[49m\n\u001b[0;32m   1191\u001b[0m \u001b[43m    \u001b[49m\u001b[43minit_score\u001b[49m\u001b[38;5;241;43m=\u001b[39;49m\u001b[43minit_score\u001b[49m\u001b[43m,\u001b[49m\n\u001b[0;32m   1192\u001b[0m \u001b[43m    \u001b[49m\u001b[43meval_set\u001b[49m\u001b[38;5;241;43m=\u001b[39;49m\u001b[43mvalid_sets\u001b[49m\u001b[43m,\u001b[49m\n\u001b[0;32m   1193\u001b[0m \u001b[43m    \u001b[49m\u001b[43meval_names\u001b[49m\u001b[38;5;241;43m=\u001b[39;49m\u001b[43meval_names\u001b[49m\u001b[43m,\u001b[49m\n\u001b[0;32m   1194\u001b[0m \u001b[43m    \u001b[49m\u001b[43meval_sample_weight\u001b[49m\u001b[38;5;241;43m=\u001b[39;49m\u001b[43meval_sample_weight\u001b[49m\u001b[43m,\u001b[49m\n\u001b[0;32m   1195\u001b[0m \u001b[43m    \u001b[49m\u001b[43meval_class_weight\u001b[49m\u001b[38;5;241;43m=\u001b[39;49m\u001b[43meval_class_weight\u001b[49m\u001b[43m,\u001b[49m\n\u001b[0;32m   1196\u001b[0m \u001b[43m    \u001b[49m\u001b[43meval_init_score\u001b[49m\u001b[38;5;241;43m=\u001b[39;49m\u001b[43meval_init_score\u001b[49m\u001b[43m,\u001b[49m\n\u001b[0;32m   1197\u001b[0m \u001b[43m    \u001b[49m\u001b[43meval_metric\u001b[49m\u001b[38;5;241;43m=\u001b[39;49m\u001b[43meval_metric\u001b[49m\u001b[43m,\u001b[49m\n\u001b[0;32m   1198\u001b[0m \u001b[43m    \u001b[49m\u001b[43mfeature_name\u001b[49m\u001b[38;5;241;43m=\u001b[39;49m\u001b[43mfeature_name\u001b[49m\u001b[43m,\u001b[49m\n\u001b[0;32m   1199\u001b[0m \u001b[43m    \u001b[49m\u001b[43mcategorical_feature\u001b[49m\u001b[38;5;241;43m=\u001b[39;49m\u001b[43mcategorical_feature\u001b[49m\u001b[43m,\u001b[49m\n\u001b[0;32m   1200\u001b[0m \u001b[43m    \u001b[49m\u001b[43mcallbacks\u001b[49m\u001b[38;5;241;43m=\u001b[39;49m\u001b[43mcallbacks\u001b[49m\u001b[43m,\u001b[49m\n\u001b[0;32m   1201\u001b[0m \u001b[43m    \u001b[49m\u001b[43minit_model\u001b[49m\u001b[38;5;241;43m=\u001b[39;49m\u001b[43minit_model\u001b[49m\n\u001b[0;32m   1202\u001b[0m \u001b[43m\u001b[49m\u001b[43m)\u001b[49m\n\u001b[0;32m   1203\u001b[0m \u001b[38;5;28;01mreturn\u001b[39;00m \u001b[38;5;28mself\u001b[39m\n",
      "File \u001b[1;32m~\\AppData\\Roaming\\Python\\Python39\\site-packages\\lightgbm\\sklearn.py:885\u001b[0m, in \u001b[0;36mLGBMModel.fit\u001b[1;34m(self, X, y, sample_weight, init_score, group, eval_set, eval_names, eval_sample_weight, eval_class_weight, eval_init_score, eval_group, eval_metric, feature_name, categorical_feature, callbacks, init_model)\u001b[0m\n\u001b[0;32m    882\u001b[0m evals_result: _EvalResultDict \u001b[38;5;241m=\u001b[39m {}\n\u001b[0;32m    883\u001b[0m callbacks\u001b[38;5;241m.\u001b[39mappend(record_evaluation(evals_result))\n\u001b[1;32m--> 885\u001b[0m \u001b[38;5;28mself\u001b[39m\u001b[38;5;241m.\u001b[39m_Booster \u001b[38;5;241m=\u001b[39m \u001b[43mtrain\u001b[49m\u001b[43m(\u001b[49m\n\u001b[0;32m    886\u001b[0m \u001b[43m    \u001b[49m\u001b[43mparams\u001b[49m\u001b[38;5;241;43m=\u001b[39;49m\u001b[43mparams\u001b[49m\u001b[43m,\u001b[49m\n\u001b[0;32m    887\u001b[0m \u001b[43m    \u001b[49m\u001b[43mtrain_set\u001b[49m\u001b[38;5;241;43m=\u001b[39;49m\u001b[43mtrain_set\u001b[49m\u001b[43m,\u001b[49m\n\u001b[0;32m    888\u001b[0m \u001b[43m    \u001b[49m\u001b[43mnum_boost_round\u001b[49m\u001b[38;5;241;43m=\u001b[39;49m\u001b[38;5;28;43mself\u001b[39;49m\u001b[38;5;241;43m.\u001b[39;49m\u001b[43mn_estimators\u001b[49m\u001b[43m,\u001b[49m\n\u001b[0;32m    889\u001b[0m \u001b[43m    \u001b[49m\u001b[43mvalid_sets\u001b[49m\u001b[38;5;241;43m=\u001b[39;49m\u001b[43mvalid_sets\u001b[49m\u001b[43m,\u001b[49m\n\u001b[0;32m    890\u001b[0m \u001b[43m    \u001b[49m\u001b[43mvalid_names\u001b[49m\u001b[38;5;241;43m=\u001b[39;49m\u001b[43meval_names\u001b[49m\u001b[43m,\u001b[49m\n\u001b[0;32m    891\u001b[0m \u001b[43m    \u001b[49m\u001b[43mfeval\u001b[49m\u001b[38;5;241;43m=\u001b[39;49m\u001b[43meval_metrics_callable\u001b[49m\u001b[43m,\u001b[49m\u001b[43m  \u001b[49m\u001b[38;5;66;43;03m# type: ignore[arg-type]\u001b[39;49;00m\n\u001b[0;32m    892\u001b[0m \u001b[43m    \u001b[49m\u001b[43minit_model\u001b[49m\u001b[38;5;241;43m=\u001b[39;49m\u001b[43minit_model\u001b[49m\u001b[43m,\u001b[49m\n\u001b[0;32m    893\u001b[0m \u001b[43m    \u001b[49m\u001b[43mfeature_name\u001b[49m\u001b[38;5;241;43m=\u001b[39;49m\u001b[43mfeature_name\u001b[49m\u001b[43m,\u001b[49m\n\u001b[0;32m    894\u001b[0m \u001b[43m    \u001b[49m\u001b[43mcallbacks\u001b[49m\u001b[38;5;241;43m=\u001b[39;49m\u001b[43mcallbacks\u001b[49m\n\u001b[0;32m    895\u001b[0m \u001b[43m\u001b[49m\u001b[43m)\u001b[49m\n\u001b[0;32m    897\u001b[0m \u001b[38;5;28mself\u001b[39m\u001b[38;5;241m.\u001b[39m_evals_result \u001b[38;5;241m=\u001b[39m evals_result\n\u001b[0;32m    898\u001b[0m \u001b[38;5;28mself\u001b[39m\u001b[38;5;241m.\u001b[39m_best_iteration \u001b[38;5;241m=\u001b[39m \u001b[38;5;28mself\u001b[39m\u001b[38;5;241m.\u001b[39m_Booster\u001b[38;5;241m.\u001b[39mbest_iteration\n",
      "File \u001b[1;32m~\\AppData\\Roaming\\Python\\Python39\\site-packages\\lightgbm\\engine.py:276\u001b[0m, in \u001b[0;36mtrain\u001b[1;34m(params, train_set, num_boost_round, valid_sets, valid_names, feval, init_model, feature_name, categorical_feature, keep_training_booster, callbacks)\u001b[0m\n\u001b[0;32m    268\u001b[0m \u001b[38;5;28;01mfor\u001b[39;00m cb \u001b[38;5;129;01min\u001b[39;00m callbacks_before_iter:\n\u001b[0;32m    269\u001b[0m     cb(callback\u001b[38;5;241m.\u001b[39mCallbackEnv(model\u001b[38;5;241m=\u001b[39mbooster,\n\u001b[0;32m    270\u001b[0m                             params\u001b[38;5;241m=\u001b[39mparams,\n\u001b[0;32m    271\u001b[0m                             iteration\u001b[38;5;241m=\u001b[39mi,\n\u001b[0;32m    272\u001b[0m                             begin_iteration\u001b[38;5;241m=\u001b[39minit_iteration,\n\u001b[0;32m    273\u001b[0m                             end_iteration\u001b[38;5;241m=\u001b[39minit_iteration \u001b[38;5;241m+\u001b[39m num_boost_round,\n\u001b[0;32m    274\u001b[0m                             evaluation_result_list\u001b[38;5;241m=\u001b[39m\u001b[38;5;28;01mNone\u001b[39;00m))\n\u001b[1;32m--> 276\u001b[0m \u001b[43mbooster\u001b[49m\u001b[38;5;241;43m.\u001b[39;49m\u001b[43mupdate\u001b[49m\u001b[43m(\u001b[49m\u001b[43mfobj\u001b[49m\u001b[38;5;241;43m=\u001b[39;49m\u001b[43mfobj\u001b[49m\u001b[43m)\u001b[49m\n\u001b[0;32m    278\u001b[0m evaluation_result_list: List[_LGBM_BoosterEvalMethodResultType] \u001b[38;5;241m=\u001b[39m []\n\u001b[0;32m    279\u001b[0m \u001b[38;5;66;03m# check evaluation result.\u001b[39;00m\n",
      "File \u001b[1;32m~\\AppData\\Roaming\\Python\\Python39\\site-packages\\lightgbm\\basic.py:3891\u001b[0m, in \u001b[0;36mBooster.update\u001b[1;34m(self, train_set, fobj)\u001b[0m\n\u001b[0;32m   3889\u001b[0m \u001b[38;5;28;01mif\u001b[39;00m \u001b[38;5;28mself\u001b[39m\u001b[38;5;241m.\u001b[39m__set_objective_to_none:\n\u001b[0;32m   3890\u001b[0m     \u001b[38;5;28;01mraise\u001b[39;00m LightGBMError(\u001b[38;5;124m'\u001b[39m\u001b[38;5;124mCannot update due to null objective function.\u001b[39m\u001b[38;5;124m'\u001b[39m)\n\u001b[1;32m-> 3891\u001b[0m _safe_call(\u001b[43m_LIB\u001b[49m\u001b[38;5;241;43m.\u001b[39;49m\u001b[43mLGBM_BoosterUpdateOneIter\u001b[49m\u001b[43m(\u001b[49m\n\u001b[0;32m   3892\u001b[0m \u001b[43m    \u001b[49m\u001b[38;5;28;43mself\u001b[39;49m\u001b[38;5;241;43m.\u001b[39;49m\u001b[43m_handle\u001b[49m\u001b[43m,\u001b[49m\n\u001b[0;32m   3893\u001b[0m \u001b[43m    \u001b[49m\u001b[43mctypes\u001b[49m\u001b[38;5;241;43m.\u001b[39;49m\u001b[43mbyref\u001b[49m\u001b[43m(\u001b[49m\u001b[43mis_finished\u001b[49m\u001b[43m)\u001b[49m\u001b[43m)\u001b[49m)\n\u001b[0;32m   3894\u001b[0m \u001b[38;5;28mself\u001b[39m\u001b[38;5;241m.\u001b[39m__is_predicted_cur_iter \u001b[38;5;241m=\u001b[39m [\u001b[38;5;28;01mFalse\u001b[39;00m \u001b[38;5;28;01mfor\u001b[39;00m _ \u001b[38;5;129;01min\u001b[39;00m \u001b[38;5;28mrange\u001b[39m(\u001b[38;5;28mself\u001b[39m\u001b[38;5;241m.\u001b[39m__num_dataset)]\n\u001b[0;32m   3895\u001b[0m \u001b[38;5;28;01mreturn\u001b[39;00m is_finished\u001b[38;5;241m.\u001b[39mvalue \u001b[38;5;241m==\u001b[39m \u001b[38;5;241m1\u001b[39m\n",
      "\u001b[1;31mKeyboardInterrupt\u001b[0m: "
     ]
    }
   ],
   "source": [
    "from sklearn.model_selection import RandomizedSearchCV, GridSearchCV\n",
    "from scipy.stats import uniform\n",
    "\n",
    "# List of hyperparameter\n",
    "num_leaves = [31,61,91]\n",
    "max_depth = [10,20,-1]\n",
    "# min_data_in_leaf = \n",
    "learning_rate = [0.05, 0.1, 0.2]\n",
    "n_estimator = [100,200,300]\n",
    "# subsample = \n",
    "# colsample_bytree = \n",
    "\n",
    "hyperparameters = dict(\n",
    "                    num_leaves = num_leaves,\n",
    "                    max_depth = max_depth ,\n",
    "                    learning_rate = learning_rate ,\n",
    "                    n_estimator = n_estimator ,\n",
    "                      )\n",
    "\n",
    "# Inisialisasi Model\n",
    "lgb = LGBMClassifier(random_state=42)\n",
    "model = GridSearchCV(lgb, hyperparameters, cv=5, scoring='precision')\n",
    "model.fit(X_res, y_res)\n",
    "\n",
    "# Predict & Evaluation\n",
    "y_pred = model.predict(X_test_scaled)#Check performa dari model\n",
    "eval_classification(model)"
   ]
  }
 ],
 "metadata": {
  "kernelspec": {
   "display_name": "Python 3",
   "language": "python",
   "name": "python3"
  },
  "language_info": {
   "codemirror_mode": {
    "name": "ipython",
    "version": 3
   },
   "file_extension": ".py",
   "mimetype": "text/x-python",
   "name": "python",
   "nbconvert_exporter": "python",
   "pygments_lexer": "ipython3",
   "version": "3.9.0"
  },
  "vscode": {
   "interpreter": {
    "hash": "11938c6bc6919ae2720b4d5011047913343b08a43b18698fd82dedb0d4417594"
   }
  }
 },
 "nbformat": 4,
 "nbformat_minor": 5
}
